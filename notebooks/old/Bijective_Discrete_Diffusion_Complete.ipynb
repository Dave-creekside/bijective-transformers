{
  "cells": [
    {
      "cell_type": "markdown",
      "metadata": {
        "id": "title"
      },
      "source": [
        "# 🚀 Bijective Discrete Diffusion for Text Generation\n",
        "\n",
        "## World's First Self-Contained Implementation\n",
        "\n",
        "This notebook implements a groundbreaking **bijective discrete diffusion model** for text generation with **exact likelihood computation**.\n",
        "\n",
        "### 🎯 Key Features:\n",
        "- **Bijective Transformers**: Invertible attention and feed-forward layers\n",
        "- **Exact Likelihood**: No variational approximations needed\n",
        "- **Real Data Training**: WikiText-2 dataset\n",
        "- **Self-Contained**: No external dependencies\n",
        "\n",
        "**Just click \"Run All\" to train your own bijective diffusion model! 🎉**"
      ]
    },
    {
      "cell_type": "code",
      "execution_count": 1,
      "metadata": {
        "colab": {
          "base_uri": "https://localhost:8080/"
        },
        "collapsed": true,
        "id": "setup",
        "outputId": "679d7edb-f0a3-44ce-ea2d-f3c1807d2728"
      },
      "outputs": [
        {
          "output_type": "stream",
          "name": "stdout",
          "text": [
            "Requirement already satisfied: torch in /usr/local/lib/python3.11/dist-packages (2.6.0+cu124)\n",
            "Requirement already satisfied: transformers in /usr/local/lib/python3.11/dist-packages (4.52.3)\n",
            "Requirement already satisfied: datasets in /usr/local/lib/python3.11/dist-packages (3.6.0)\n",
            "Requirement already satisfied: tqdm in /usr/local/lib/python3.11/dist-packages (4.67.1)\n",
            "Requirement already satisfied: matplotlib in /usr/local/lib/python3.11/dist-packages (3.10.0)\n",
            "Requirement already satisfied: filelock in /usr/local/lib/python3.11/dist-packages (from torch) (3.18.0)\n",
            "Requirement already satisfied: typing-extensions>=4.10.0 in /usr/local/lib/python3.11/dist-packages (from torch) (4.13.2)\n",
            "Requirement already satisfied: networkx in /usr/local/lib/python3.11/dist-packages (from torch) (3.4.2)\n",
            "Requirement already satisfied: jinja2 in /usr/local/lib/python3.11/dist-packages (from torch) (3.1.6)\n",
            "Requirement already satisfied: fsspec in /usr/local/lib/python3.11/dist-packages (from torch) (2025.3.0)\n",
            "Requirement already satisfied: nvidia-cuda-nvrtc-cu12==12.4.127 in /usr/local/lib/python3.11/dist-packages (from torch) (12.4.127)\n",
            "Requirement already satisfied: nvidia-cuda-runtime-cu12==12.4.127 in /usr/local/lib/python3.11/dist-packages (from torch) (12.4.127)\n",
            "Requirement already satisfied: nvidia-cuda-cupti-cu12==12.4.127 in /usr/local/lib/python3.11/dist-packages (from torch) (12.4.127)\n",
            "Requirement already satisfied: nvidia-cudnn-cu12==9.1.0.70 in /usr/local/lib/python3.11/dist-packages (from torch) (9.1.0.70)\n",
            "Requirement already satisfied: nvidia-cublas-cu12==12.4.5.8 in /usr/local/lib/python3.11/dist-packages (from torch) (12.4.5.8)\n",
            "Requirement already satisfied: nvidia-cufft-cu12==11.2.1.3 in /usr/local/lib/python3.11/dist-packages (from torch) (11.2.1.3)\n",
            "Requirement already satisfied: nvidia-curand-cu12==10.3.5.147 in /usr/local/lib/python3.11/dist-packages (from torch) (10.3.5.147)\n",
            "Requirement already satisfied: nvidia-cusolver-cu12==11.6.1.9 in /usr/local/lib/python3.11/dist-packages (from torch) (11.6.1.9)\n",
            "Requirement already satisfied: nvidia-cusparse-cu12==12.3.1.170 in /usr/local/lib/python3.11/dist-packages (from torch) (12.3.1.170)\n",
            "Requirement already satisfied: nvidia-cusparselt-cu12==0.6.2 in /usr/local/lib/python3.11/dist-packages (from torch) (0.6.2)\n",
            "Requirement already satisfied: nvidia-nccl-cu12==2.21.5 in /usr/local/lib/python3.11/dist-packages (from torch) (2.21.5)\n",
            "Requirement already satisfied: nvidia-nvtx-cu12==12.4.127 in /usr/local/lib/python3.11/dist-packages (from torch) (12.4.127)\n",
            "Requirement already satisfied: nvidia-nvjitlink-cu12==12.4.127 in /usr/local/lib/python3.11/dist-packages (from torch) (12.4.127)\n",
            "Requirement already satisfied: triton==3.2.0 in /usr/local/lib/python3.11/dist-packages (from torch) (3.2.0)\n",
            "Requirement already satisfied: sympy==1.13.1 in /usr/local/lib/python3.11/dist-packages (from torch) (1.13.1)\n",
            "Requirement already satisfied: mpmath<1.4,>=1.1.0 in /usr/local/lib/python3.11/dist-packages (from sympy==1.13.1->torch) (1.3.0)\n",
            "Requirement already satisfied: huggingface-hub<1.0,>=0.30.0 in /usr/local/lib/python3.11/dist-packages (from transformers) (0.31.4)\n",
            "Requirement already satisfied: numpy>=1.17 in /usr/local/lib/python3.11/dist-packages (from transformers) (2.0.2)\n",
            "Requirement already satisfied: packaging>=20.0 in /usr/local/lib/python3.11/dist-packages (from transformers) (24.2)\n",
            "Requirement already satisfied: pyyaml>=5.1 in /usr/local/lib/python3.11/dist-packages (from transformers) (6.0.2)\n",
            "Requirement already satisfied: regex!=2019.12.17 in /usr/local/lib/python3.11/dist-packages (from transformers) (2024.11.6)\n",
            "Requirement already satisfied: requests in /usr/local/lib/python3.11/dist-packages (from transformers) (2.32.3)\n",
            "Requirement already satisfied: tokenizers<0.22,>=0.21 in /usr/local/lib/python3.11/dist-packages (from transformers) (0.21.1)\n",
            "Requirement already satisfied: safetensors>=0.4.3 in /usr/local/lib/python3.11/dist-packages (from transformers) (0.5.3)\n",
            "Requirement already satisfied: pyarrow>=15.0.0 in /usr/local/lib/python3.11/dist-packages (from datasets) (18.1.0)\n",
            "Requirement already satisfied: dill<0.3.9,>=0.3.0 in /usr/local/lib/python3.11/dist-packages (from datasets) (0.3.7)\n",
            "Requirement already satisfied: pandas in /usr/local/lib/python3.11/dist-packages (from datasets) (2.2.2)\n",
            "Requirement already satisfied: xxhash in /usr/local/lib/python3.11/dist-packages (from datasets) (3.5.0)\n",
            "Requirement already satisfied: multiprocess<0.70.17 in /usr/local/lib/python3.11/dist-packages (from datasets) (0.70.15)\n",
            "Requirement already satisfied: contourpy>=1.0.1 in /usr/local/lib/python3.11/dist-packages (from matplotlib) (1.3.2)\n",
            "Requirement already satisfied: cycler>=0.10 in /usr/local/lib/python3.11/dist-packages (from matplotlib) (0.12.1)\n",
            "Requirement already satisfied: fonttools>=4.22.0 in /usr/local/lib/python3.11/dist-packages (from matplotlib) (4.58.0)\n",
            "Requirement already satisfied: kiwisolver>=1.3.1 in /usr/local/lib/python3.11/dist-packages (from matplotlib) (1.4.8)\n",
            "Requirement already satisfied: pillow>=8 in /usr/local/lib/python3.11/dist-packages (from matplotlib) (11.2.1)\n",
            "Requirement already satisfied: pyparsing>=2.3.1 in /usr/local/lib/python3.11/dist-packages (from matplotlib) (3.2.3)\n",
            "Requirement already satisfied: python-dateutil>=2.7 in /usr/local/lib/python3.11/dist-packages (from matplotlib) (2.9.0.post0)\n",
            "Requirement already satisfied: aiohttp!=4.0.0a0,!=4.0.0a1 in /usr/local/lib/python3.11/dist-packages (from fsspec[http]<=2025.3.0,>=2023.1.0->datasets) (3.11.15)\n",
            "Requirement already satisfied: six>=1.5 in /usr/local/lib/python3.11/dist-packages (from python-dateutil>=2.7->matplotlib) (1.17.0)\n",
            "Requirement already satisfied: charset-normalizer<4,>=2 in /usr/local/lib/python3.11/dist-packages (from requests->transformers) (3.4.2)\n",
            "Requirement already satisfied: idna<4,>=2.5 in /usr/local/lib/python3.11/dist-packages (from requests->transformers) (3.10)\n",
            "Requirement already satisfied: urllib3<3,>=1.21.1 in /usr/local/lib/python3.11/dist-packages (from requests->transformers) (2.4.0)\n",
            "Requirement already satisfied: certifi>=2017.4.17 in /usr/local/lib/python3.11/dist-packages (from requests->transformers) (2025.4.26)\n",
            "Requirement already satisfied: MarkupSafe>=2.0 in /usr/local/lib/python3.11/dist-packages (from jinja2->torch) (3.0.2)\n",
            "Requirement already satisfied: pytz>=2020.1 in /usr/local/lib/python3.11/dist-packages (from pandas->datasets) (2025.2)\n",
            "Requirement already satisfied: tzdata>=2022.7 in /usr/local/lib/python3.11/dist-packages (from pandas->datasets) (2025.2)\n",
            "Requirement already satisfied: aiohappyeyeballs>=2.3.0 in /usr/local/lib/python3.11/dist-packages (from aiohttp!=4.0.0a0,!=4.0.0a1->fsspec[http]<=2025.3.0,>=2023.1.0->datasets) (2.6.1)\n",
            "Requirement already satisfied: aiosignal>=1.1.2 in /usr/local/lib/python3.11/dist-packages (from aiohttp!=4.0.0a0,!=4.0.0a1->fsspec[http]<=2025.3.0,>=2023.1.0->datasets) (1.3.2)\n",
            "Requirement already satisfied: attrs>=17.3.0 in /usr/local/lib/python3.11/dist-packages (from aiohttp!=4.0.0a0,!=4.0.0a1->fsspec[http]<=2025.3.0,>=2023.1.0->datasets) (25.3.0)\n",
            "Requirement already satisfied: frozenlist>=1.1.1 in /usr/local/lib/python3.11/dist-packages (from aiohttp!=4.0.0a0,!=4.0.0a1->fsspec[http]<=2025.3.0,>=2023.1.0->datasets) (1.6.0)\n",
            "Requirement already satisfied: multidict<7.0,>=4.5 in /usr/local/lib/python3.11/dist-packages (from aiohttp!=4.0.0a0,!=4.0.0a1->fsspec[http]<=2025.3.0,>=2023.1.0->datasets) (6.4.4)\n",
            "Requirement already satisfied: propcache>=0.2.0 in /usr/local/lib/python3.11/dist-packages (from aiohttp!=4.0.0a0,!=4.0.0a1->fsspec[http]<=2025.3.0,>=2023.1.0->datasets) (0.3.1)\n",
            "Requirement already satisfied: yarl<2.0,>=1.17.0 in /usr/local/lib/python3.11/dist-packages (from aiohttp!=4.0.0a0,!=4.0.0a1->fsspec[http]<=2025.3.0,>=2023.1.0->datasets) (1.20.0)\n",
            "Requirement already satisfied: datasets in /usr/local/lib/python3.11/dist-packages (3.6.0)\n",
            "Requirement already satisfied: transformers in /usr/local/lib/python3.11/dist-packages (4.52.3)\n",
            "Requirement already satisfied: fsspec in /usr/local/lib/python3.11/dist-packages (2025.3.0)\n",
            "Collecting fsspec\n",
            "  Using cached fsspec-2025.5.1-py3-none-any.whl.metadata (11 kB)\n",
            "Requirement already satisfied: filelock in /usr/local/lib/python3.11/dist-packages (from datasets) (3.18.0)\n",
            "Requirement already satisfied: numpy>=1.17 in /usr/local/lib/python3.11/dist-packages (from datasets) (2.0.2)\n",
            "Requirement already satisfied: pyarrow>=15.0.0 in /usr/local/lib/python3.11/dist-packages (from datasets) (18.1.0)\n",
            "Requirement already satisfied: dill<0.3.9,>=0.3.0 in /usr/local/lib/python3.11/dist-packages (from datasets) (0.3.7)\n",
            "Requirement already satisfied: pandas in /usr/local/lib/python3.11/dist-packages (from datasets) (2.2.2)\n",
            "Requirement already satisfied: requests>=2.32.2 in /usr/local/lib/python3.11/dist-packages (from datasets) (2.32.3)\n",
            "Requirement already satisfied: tqdm>=4.66.3 in /usr/local/lib/python3.11/dist-packages (from datasets) (4.67.1)\n",
            "Requirement already satisfied: xxhash in /usr/local/lib/python3.11/dist-packages (from datasets) (3.5.0)\n",
            "Requirement already satisfied: multiprocess<0.70.17 in /usr/local/lib/python3.11/dist-packages (from datasets) (0.70.15)\n",
            "Requirement already satisfied: huggingface-hub>=0.24.0 in /usr/local/lib/python3.11/dist-packages (from datasets) (0.31.4)\n",
            "Requirement already satisfied: packaging in /usr/local/lib/python3.11/dist-packages (from datasets) (24.2)\n",
            "Requirement already satisfied: pyyaml>=5.1 in /usr/local/lib/python3.11/dist-packages (from datasets) (6.0.2)\n",
            "Requirement already satisfied: regex!=2019.12.17 in /usr/local/lib/python3.11/dist-packages (from transformers) (2024.11.6)\n",
            "Requirement already satisfied: tokenizers<0.22,>=0.21 in /usr/local/lib/python3.11/dist-packages (from transformers) (0.21.1)\n",
            "Requirement already satisfied: safetensors>=0.4.3 in /usr/local/lib/python3.11/dist-packages (from transformers) (0.5.3)\n",
            "Requirement already satisfied: aiohttp!=4.0.0a0,!=4.0.0a1 in /usr/local/lib/python3.11/dist-packages (from fsspec[http]<=2025.3.0,>=2023.1.0->datasets) (3.11.15)\n",
            "Requirement already satisfied: typing-extensions>=3.7.4.3 in /usr/local/lib/python3.11/dist-packages (from huggingface-hub>=0.24.0->datasets) (4.13.2)\n",
            "Requirement already satisfied: charset-normalizer<4,>=2 in /usr/local/lib/python3.11/dist-packages (from requests>=2.32.2->datasets) (3.4.2)\n",
            "Requirement already satisfied: idna<4,>=2.5 in /usr/local/lib/python3.11/dist-packages (from requests>=2.32.2->datasets) (3.10)\n",
            "Requirement already satisfied: urllib3<3,>=1.21.1 in /usr/local/lib/python3.11/dist-packages (from requests>=2.32.2->datasets) (2.4.0)\n",
            "Requirement already satisfied: certifi>=2017.4.17 in /usr/local/lib/python3.11/dist-packages (from requests>=2.32.2->datasets) (2025.4.26)\n",
            "Requirement already satisfied: python-dateutil>=2.8.2 in /usr/local/lib/python3.11/dist-packages (from pandas->datasets) (2.9.0.post0)\n",
            "Requirement already satisfied: pytz>=2020.1 in /usr/local/lib/python3.11/dist-packages (from pandas->datasets) (2025.2)\n",
            "Requirement already satisfied: tzdata>=2022.7 in /usr/local/lib/python3.11/dist-packages (from pandas->datasets) (2025.2)\n",
            "Requirement already satisfied: aiohappyeyeballs>=2.3.0 in /usr/local/lib/python3.11/dist-packages (from aiohttp!=4.0.0a0,!=4.0.0a1->fsspec[http]<=2025.3.0,>=2023.1.0->datasets) (2.6.1)\n",
            "Requirement already satisfied: aiosignal>=1.1.2 in /usr/local/lib/python3.11/dist-packages (from aiohttp!=4.0.0a0,!=4.0.0a1->fsspec[http]<=2025.3.0,>=2023.1.0->datasets) (1.3.2)\n",
            "Requirement already satisfied: attrs>=17.3.0 in /usr/local/lib/python3.11/dist-packages (from aiohttp!=4.0.0a0,!=4.0.0a1->fsspec[http]<=2025.3.0,>=2023.1.0->datasets) (25.3.0)\n",
            "Requirement already satisfied: frozenlist>=1.1.1 in /usr/local/lib/python3.11/dist-packages (from aiohttp!=4.0.0a0,!=4.0.0a1->fsspec[http]<=2025.3.0,>=2023.1.0->datasets) (1.6.0)\n",
            "Requirement already satisfied: multidict<7.0,>=4.5 in /usr/local/lib/python3.11/dist-packages (from aiohttp!=4.0.0a0,!=4.0.0a1->fsspec[http]<=2025.3.0,>=2023.1.0->datasets) (6.4.4)\n",
            "Requirement already satisfied: propcache>=0.2.0 in /usr/local/lib/python3.11/dist-packages (from aiohttp!=4.0.0a0,!=4.0.0a1->fsspec[http]<=2025.3.0,>=2023.1.0->datasets) (0.3.1)\n",
            "Requirement already satisfied: yarl<2.0,>=1.17.0 in /usr/local/lib/python3.11/dist-packages (from aiohttp!=4.0.0a0,!=4.0.0a1->fsspec[http]<=2025.3.0,>=2023.1.0->datasets) (1.20.0)\n",
            "Requirement already satisfied: six>=1.5 in /usr/local/lib/python3.11/dist-packages (from python-dateutil>=2.8.2->pandas->datasets) (1.17.0)\n",
            "🚀 Using device: cuda\n",
            "✅ Setup complete!\n"
          ]
        }
      ],
      "source": [
        "# Install and import packages\n",
        "!pip install torch transformers datasets tqdm matplotlib\n",
        "!pip install --upgrade datasets transformers fsspec\n",
        "\n",
        "import torch\n",
        "import torch.nn as nn\n",
        "import torch.nn.functional as F\n",
        "import torch.optim as optim\n",
        "from torch.utils.data import Dataset, DataLoader\n",
        "import numpy as np\n",
        "import matplotlib.pyplot as plt\n",
        "from transformers import AutoTokenizer\n",
        "import datasets as hf_datasets\n",
        "from typing import Optional, Dict, Any, Tuple\n",
        "from dataclasses import dataclass\n",
        "import math\n",
        "import time\n",
        "from tqdm import tqdm\n",
        "import json # Added for saving config\n",
        "import os # Added for Google Drive saving option\n",
        "\n",
        "device = torch.device('cuda' if torch.cuda.is_available() else 'cpu')\n",
        "print(f\"🚀 Using device: {device}\")\n",
        "print(\"✅ Setup complete!\")"
      ]
    },
    {
      "cell_type": "code",
      "execution_count": 2,
      "metadata": {
        "colab": {
          "base_uri": "https://localhost:8080/"
        },
        "id": "implementation",
        "outputId": "c0a960b6-bf65-4364-cf3f-eecda16091ef"
      },
      "outputs": [
        {
          "output_type": "stream",
          "name": "stdout",
          "text": [
            "✅ Model implementation complete!\n"
          ]
        }
      ],
      "source": [
        "# 🔧 COMPLETE BIJECTIVE DISCRETE DIFFUSION IMPLEMENTATION\n",
        "\n",
        "# --- MODEL CONFIGURATION SELECTION ---\n",
        "# Choose the model size by setting the SELECTED_MODEL_SIZE variable\n",
        "# to one of the keys in MODEL_PRESETS (e.g., \"SMALL\", \"BASE\", \"LARGE\").\n",
        "MODEL_PRESETS = {\n",
        "    \"SMALL\": {\"embed_dim\": 64, \"num_layers\": 1, \"num_heads\": 2},\n",
        "    \"BASE\":  {\"embed_dim\": 128, \"num_layers\": 2, \"num_heads\": 4}, # Current default\n",
        "    \"LARGE\": {\"embed_dim\": 256, \"num_layers\": 4, \"num_heads\": 8},\n",
        "    \"XL\": {\"embed_dim\": 512, \"num_layers\": 8, \"num_heads\": 16},\n",
        "\n",
        "}\n",
        "SELECTED_MODEL_SIZE = \"XL\"  # <<< YOU CAN CHANGE THIS VALUE (e.g., \"SMALL\", \"LARGE\")\n",
        "_selected_config_params = MODEL_PRESETS[SELECTED_MODEL_SIZE]\n",
        "# --- END MODEL CONFIGURATION SELECTION ---\n",
        "\n",
        "@dataclass\n",
        "class Config:\n",
        "    vocab_size: int = 50257    # Default, typically overridden when tokenizer is known\n",
        "    max_seq_length: int = 64   # Kept as is\n",
        "    dropout: float = 0.1       # Kept as is\n",
        "\n",
        "    # Model architecture parameters are now set from the selection above\n",
        "    embed_dim: int = _selected_config_params[\"embed_dim\"]\n",
        "    num_layers: int = _selected_config_params[\"num_layers\"]\n",
        "    num_heads: int = _selected_config_params[\"num_heads\"]\n",
        "\n",
        "class CouplingFunction(nn.Module):\n",
        "    def __init__(self, input_dim: int, output_dim: int, hidden_dim: int = 64):\n",
        "        super().__init__()\n",
        "        self.net = nn.Sequential(\n",
        "            nn.Linear(input_dim, hidden_dim),\n",
        "            nn.GELU(),\n",
        "            nn.Linear(hidden_dim, output_dim)\n",
        "        )\n",
        "        # Initialize to zero for identity start\n",
        "        nn.init.zeros_(self.net[-1].weight)\n",
        "        nn.init.zeros_(self.net[-1].bias)\n",
        "\n",
        "    def forward(self, x):\n",
        "        return self.net(x)\n",
        "\n",
        "class InvertibleResidual(nn.Module):\n",
        "    def __init__(self, dim: int):\n",
        "        super().__init__()\n",
        "        self.split = dim // 2\n",
        "        self.F = CouplingFunction(dim - self.split, self.split)\n",
        "        self.G = CouplingFunction(self.split, dim - self.split)\n",
        "\n",
        "    def forward(self, x):\n",
        "        x1, x2 = x[..., :self.split], x[..., self.split:]\n",
        "        y1 = x1 + self.F(x2)\n",
        "        y2 = x2 + self.G(y1)\n",
        "        return torch.cat([y1, y2], dim=-1)\n",
        "\n",
        "class BijectiveAttention(nn.Module):\n",
        "    def __init__(self, config: Config):\n",
        "        super().__init__()\n",
        "        self.embed_dim = config.embed_dim\n",
        "        self.num_heads = config.num_heads\n",
        "        self.head_dim = config.embed_dim // config.num_heads\n",
        "\n",
        "        self.q_proj = InvertibleResidual(config.embed_dim)\n",
        "        self.k_proj = InvertibleResidual(config.embed_dim)\n",
        "        self.v_proj = InvertibleResidual(config.embed_dim)\n",
        "        self.out_proj = InvertibleResidual(config.embed_dim)\n",
        "\n",
        "        self.dropout = nn.Dropout(config.dropout)\n",
        "\n",
        "    def forward(self, x, mask=None):\n",
        "        B, L, D = x.shape\n",
        "\n",
        "        q = self.q_proj(x).view(B, L, self.num_heads, self.head_dim).transpose(1, 2)\n",
        "        k = self.k_proj(x).view(B, L, self.num_heads, self.head_dim).transpose(1, 2)\n",
        "        v = self.v_proj(x).view(B, L, self.num_heads, self.head_dim).transpose(1, 2)\n",
        "\n",
        "        scores = torch.matmul(q, k.transpose(-2, -1)) / math.sqrt(self.head_dim)\n",
        "        if mask is not None:\n",
        "            # Ensure mask is boolean for masked_fill\n",
        "            mask = mask.bool()\n",
        "            scores = scores.masked_fill(~mask.unsqueeze(1).unsqueeze(1), float('-inf'))\n",
        "\n",
        "        attn = F.softmax(scores, dim=-1)\n",
        "        attn = self.dropout(attn)\n",
        "\n",
        "        out = torch.matmul(attn, v).transpose(1, 2).contiguous().view(B, L, D)\n",
        "        return self.out_proj(out)\n",
        "\n",
        "class BijectiveBlock(nn.Module):\n",
        "    def __init__(self, config: Config):\n",
        "        super().__init__()\n",
        "        self.attn = BijectiveAttention(config)\n",
        "        self.ffn = InvertibleResidual(config.embed_dim)\n",
        "        self.norm1 = nn.LayerNorm(config.embed_dim)\n",
        "        self.norm2 = nn.LayerNorm(config.embed_dim)\n",
        "        self.dropout = nn.Dropout(config.dropout)\n",
        "\n",
        "    def forward(self, x, mask=None):\n",
        "        # Pre-norm\n",
        "        attn_out = self.attn(self.norm1(x), mask)\n",
        "        x = x + self.dropout(attn_out)\n",
        "\n",
        "        ffn_out = self.ffn(self.norm2(x))\n",
        "        x = x + self.dropout(ffn_out)\n",
        "\n",
        "        return x\n",
        "\n",
        "class TimeEmbedding(nn.Module):\n",
        "    def __init__(self, dim: int):\n",
        "        super().__init__()\n",
        "        self.dim = dim\n",
        "\n",
        "    def forward(self, t):\n",
        "        half_dim = self.dim // 2\n",
        "        freqs = torch.exp(-math.log(10000) * torch.arange(half_dim, device=t.device) / half_dim)\n",
        "        args = t[:, None] * freqs[None, :]\n",
        "        return torch.cat([torch.cos(args), torch.sin(args)], dim=-1)\n",
        "\n",
        "class BijectiveDiffusionModel(nn.Module):\n",
        "    def __init__(self, config: Config):\n",
        "        super().__init__()\n",
        "        self.config = config\n",
        "\n",
        "        self.token_emb = nn.Embedding(config.vocab_size, config.embed_dim)\n",
        "        self.pos_emb = nn.Embedding(config.max_seq_length, config.embed_dim)\n",
        "        self.time_emb = TimeEmbedding(config.embed_dim)\n",
        "\n",
        "        self.blocks = nn.ModuleList([\n",
        "            BijectiveBlock(config) for _ in range(config.num_layers)\n",
        "        ])\n",
        "\n",
        "        self.head = nn.Linear(config.embed_dim, config.vocab_size)\n",
        "        self.dropout = nn.Dropout(config.dropout)\n",
        "\n",
        "    def forward(self, input_ids, timesteps, attention_mask=None):\n",
        "        B, L = input_ids.shape\n",
        "\n",
        "        # Embeddings\n",
        "        pos_ids = torch.arange(L, device=input_ids.device).unsqueeze(0).expand(B, -1)\n",
        "\n",
        "        x = self.token_emb(input_ids) + self.pos_emb(pos_ids)\n",
        "\n",
        "        # Add time embedding\n",
        "        time_emb = self.time_emb(timesteps).unsqueeze(1).expand(-1, L, -1)\n",
        "        x = x + time_emb\n",
        "\n",
        "        x = self.dropout(x)\n",
        "\n",
        "        # Apply blocks\n",
        "        for block in self.blocks:\n",
        "            x = block(x, attention_mask)\n",
        "\n",
        "        # Output head\n",
        "        logits = self.head(x)\n",
        "\n",
        "        return logits\n",
        "\n",
        "    def training_step(self, clean_ids, attention_mask=None):\n",
        "        B = clean_ids.shape[0]\n",
        "\n",
        "        # Sample timesteps and noise\n",
        "        t = torch.randint(0, 1000, (B,), device=clean_ids.device)\n",
        "        noise_level = torch.linspace(0.01, 0.99, 1000, device=clean_ids.device)[t]\n",
        "\n",
        "        # Corrupt tokens\n",
        "        mask = torch.rand_like(clean_ids.float()) < noise_level.unsqueeze(1)\n",
        "        if attention_mask is not None:\n",
        "            mask = mask & attention_mask.bool()\n",
        "\n",
        "        noisy_ids = clean_ids.clone()\n",
        "        # FIXED: torch.randint size parameter must be a tuple\n",
        "        noisy_ids[mask] = torch.randint(0, self.config.vocab_size, (mask.sum().item(),), device=clean_ids.device)\n",
        "\n",
        "        # Forward pass\n",
        "        logits = self.forward(noisy_ids, t, attention_mask)\n",
        "\n",
        "        # Loss\n",
        "        loss = F.cross_entropy(logits.view(-1, logits.size(-1)), clean_ids.view(-1), reduction='mean')\n",
        "\n",
        "        return {'loss': loss, 'logits': logits}\n",
        "\n",
        "print(\"✅ Model implementation complete!\")\n"
      ]
    },
    {
      "cell_type": "code",
      "execution_count": 3,
      "metadata": {
        "colab": {
          "base_uri": "https://localhost:8080/"
        },
        "id": "data",
        "outputId": "218b0cae-6d06-4f26-9e82-1e14146dc364"
      },
      "outputs": [
        {
          "output_type": "stream",
          "name": "stdout",
          "text": [
            "Setting up tokenizer and dataset...\n"
          ]
        },
        {
          "output_type": "stream",
          "name": "stderr",
          "text": [
            "/usr/local/lib/python3.11/dist-packages/huggingface_hub/utils/_auth.py:94: UserWarning: \n",
            "The secret `HF_TOKEN` does not exist in your Colab secrets.\n",
            "To authenticate with the Hugging Face Hub, create a token in your settings tab (https://huggingface.co/settings/tokens), set it as secret in your Google Colab and restart your session.\n",
            "You will be able to reuse this secret in all of your notebooks.\n",
            "Please note that authentication is recommended but still optional to access public models or datasets.\n",
            "  warnings.warn(\n"
          ]
        },
        {
          "output_type": "stream",
          "name": "stdout",
          "text": [
            "Loading WikiText-2 train dataset...\n",
            "Loaded 23527 text samples\n",
            "✅ Data loading complete!\n"
          ]
        }
      ],
      "source": [
        "# 📚 DATA LOADING\n",
        "\n",
        "class WikiTextDataset(Dataset):\n",
        "    def __init__(self, tokenizer, max_length=64, split='train'):\n",
        "        self.tokenizer = tokenizer\n",
        "        self.max_length = max_length\n",
        "\n",
        "        # Load WikiText-2\n",
        "        print(f\"Loading WikiText-2 {split} dataset...\")\n",
        "        dataset = hf_datasets.load_dataset(\"wikitext\", \"wikitext-2-v1\", split=split)\n",
        "\n",
        "        self.texts = []\n",
        "        for item in dataset:\n",
        "            text = item['text'].strip()\n",
        "            if len(text) > 10:  # Filter short texts\n",
        "                self.texts.append(text)\n",
        "\n",
        "        print(f\"Loaded {len(self.texts)} text samples\")\n",
        "\n",
        "    def __len__(self):\n",
        "        return len(self.texts)\n",
        "\n",
        "    def __getitem__(self, idx):\n",
        "        text = self.texts[idx]\n",
        "\n",
        "        # Tokenize\n",
        "        encoding = self.tokenizer(\n",
        "            text,\n",
        "            max_length=self.max_length,\n",
        "            padding='max_length',\n",
        "            truncation=True,\n",
        "            return_tensors='pt'\n",
        "        )\n",
        "\n",
        "        return {\n",
        "            'input_ids': encoding['input_ids'].squeeze(),\n",
        "            'attention_mask': encoding['attention_mask'].squeeze()\n",
        "        }\n",
        "\n",
        "# Setup tokenizer and data\n",
        "print(\"Setting up tokenizer and dataset...\")\n",
        "tokenizer = AutoTokenizer.from_pretrained('gpt2')\n",
        "tokenizer.pad_token = tokenizer.eos_token\n",
        "\n",
        "config = Config(vocab_size=len(tokenizer))\n",
        "train_dataset = WikiTextDataset(tokenizer, config.max_seq_length, 'train')\n",
        "train_loader = DataLoader(train_dataset, batch_size=8, shuffle=True)\n",
        "\n",
        "print(\"✅ Data loading complete!\")"
      ]
    },
    {
      "cell_type": "code",
      "execution_count": 4,
      "metadata": {
        "colab": {
          "base_uri": "https://localhost:8080/",
          "height": 1000
        },
        "id": "training",
        "outputId": "87989c10-3b99-4b28-be08-68fbbcdc3a05"
      },
      "outputs": [
        {
          "output_type": "stream",
          "name": "stdout",
          "text": [
            "Model parameters: 26,465,361\n",
            "Starting training...\n"
          ]
        },
        {
          "output_type": "stream",
          "name": "stderr",
          "text": [
            "Epoch 1/100: 100%|██████████| 2941/2941 [01:53<00:00, 25.95it/s, loss=3.1601]\n"
          ]
        },
        {
          "output_type": "stream",
          "name": "stdout",
          "text": [
            "Epoch 1/100 average loss: 5.8221\n"
          ]
        },
        {
          "output_type": "stream",
          "name": "stderr",
          "text": [
            "Epoch 2/100: 100%|██████████| 2941/2941 [01:50<00:00, 26.59it/s, loss=3.3046]\n"
          ]
        },
        {
          "output_type": "stream",
          "name": "stdout",
          "text": [
            "Epoch 2/100 average loss: 3.8060\n"
          ]
        },
        {
          "output_type": "stream",
          "name": "stderr",
          "text": [
            "Epoch 3/100: 100%|██████████| 2941/2941 [01:50<00:00, 26.65it/s, loss=2.3981]\n"
          ]
        },
        {
          "output_type": "stream",
          "name": "stdout",
          "text": [
            "Epoch 3/100 average loss: 3.2086\n"
          ]
        },
        {
          "output_type": "stream",
          "name": "stderr",
          "text": [
            "Epoch 4/100: 100%|██████████| 2941/2941 [01:50<00:00, 26.62it/s, loss=2.7115]\n"
          ]
        },
        {
          "output_type": "stream",
          "name": "stdout",
          "text": [
            "Epoch 4/100 average loss: 2.9222\n"
          ]
        },
        {
          "output_type": "stream",
          "name": "stderr",
          "text": [
            "Epoch 5/100: 100%|██████████| 2941/2941 [01:50<00:00, 26.52it/s, loss=3.4614]\n"
          ]
        },
        {
          "output_type": "stream",
          "name": "stdout",
          "text": [
            "Epoch 5/100 average loss: 2.7871\n"
          ]
        },
        {
          "output_type": "stream",
          "name": "stderr",
          "text": [
            "Epoch 6/100: 100%|██████████| 2941/2941 [01:50<00:00, 26.55it/s, loss=3.3233]\n"
          ]
        },
        {
          "output_type": "stream",
          "name": "stdout",
          "text": [
            "Epoch 6/100 average loss: 2.7032\n"
          ]
        },
        {
          "output_type": "stream",
          "name": "stderr",
          "text": [
            "Epoch 7/100: 100%|██████████| 2941/2941 [01:49<00:00, 26.74it/s, loss=2.9282]\n"
          ]
        },
        {
          "output_type": "stream",
          "name": "stdout",
          "text": [
            "Epoch 7/100 average loss: 2.6208\n"
          ]
        },
        {
          "output_type": "stream",
          "name": "stderr",
          "text": [
            "Epoch 8/100: 100%|██████████| 2941/2941 [01:50<00:00, 26.60it/s, loss=3.7273]\n"
          ]
        },
        {
          "output_type": "stream",
          "name": "stdout",
          "text": [
            "Epoch 8/100 average loss: 2.5793\n"
          ]
        },
        {
          "output_type": "stream",
          "name": "stderr",
          "text": [
            "Epoch 9/100: 100%|██████████| 2941/2941 [01:50<00:00, 26.67it/s, loss=4.0222]\n"
          ]
        },
        {
          "output_type": "stream",
          "name": "stdout",
          "text": [
            "Epoch 9/100 average loss: 2.5550\n"
          ]
        },
        {
          "output_type": "stream",
          "name": "stderr",
          "text": [
            "Epoch 10/100: 100%|██████████| 2941/2941 [01:50<00:00, 26.58it/s, loss=2.9768]\n"
          ]
        },
        {
          "output_type": "stream",
          "name": "stdout",
          "text": [
            "Epoch 10/100 average loss: 2.5378\n"
          ]
        },
        {
          "output_type": "stream",
          "name": "stderr",
          "text": [
            "Epoch 11/100: 100%|██████████| 2941/2941 [01:50<00:00, 26.64it/s, loss=2.7241]\n"
          ]
        },
        {
          "output_type": "stream",
          "name": "stdout",
          "text": [
            "Epoch 11/100 average loss: 2.4982\n"
          ]
        },
        {
          "output_type": "stream",
          "name": "stderr",
          "text": [
            "Epoch 12/100: 100%|██████████| 2941/2941 [01:50<00:00, 26.63it/s, loss=2.8182]\n"
          ]
        },
        {
          "output_type": "stream",
          "name": "stdout",
          "text": [
            "Epoch 12/100 average loss: 2.4935\n"
          ]
        },
        {
          "output_type": "stream",
          "name": "stderr",
          "text": [
            "Epoch 13/100: 100%|██████████| 2941/2941 [01:50<00:00, 26.59it/s, loss=1.8561]\n"
          ]
        },
        {
          "output_type": "stream",
          "name": "stdout",
          "text": [
            "Epoch 13/100 average loss: 2.4678\n"
          ]
        },
        {
          "output_type": "stream",
          "name": "stderr",
          "text": [
            "Epoch 14/100: 100%|██████████| 2941/2941 [01:50<00:00, 26.56it/s, loss=1.8117]\n"
          ]
        },
        {
          "output_type": "stream",
          "name": "stdout",
          "text": [
            "Epoch 14/100 average loss: 2.4344\n"
          ]
        },
        {
          "output_type": "stream",
          "name": "stderr",
          "text": [
            "Epoch 15/100: 100%|██████████| 2941/2941 [01:50<00:00, 26.57it/s, loss=2.4443]\n"
          ]
        },
        {
          "output_type": "stream",
          "name": "stdout",
          "text": [
            "Epoch 15/100 average loss: 2.4536\n"
          ]
        },
        {
          "output_type": "stream",
          "name": "stderr",
          "text": [
            "Epoch 16/100: 100%|██████████| 2941/2941 [01:50<00:00, 26.56it/s, loss=3.4115]\n"
          ]
        },
        {
          "output_type": "stream",
          "name": "stdout",
          "text": [
            "Epoch 16/100 average loss: 2.4416\n"
          ]
        },
        {
          "output_type": "stream",
          "name": "stderr",
          "text": [
            "Epoch 17/100: 100%|██████████| 2941/2941 [01:50<00:00, 26.65it/s, loss=1.8181]\n"
          ]
        },
        {
          "output_type": "stream",
          "name": "stdout",
          "text": [
            "Epoch 17/100 average loss: 2.4271\n"
          ]
        },
        {
          "output_type": "stream",
          "name": "stderr",
          "text": [
            "Epoch 18/100: 100%|██████████| 2941/2941 [01:50<00:00, 26.67it/s, loss=2.4649]\n"
          ]
        },
        {
          "output_type": "stream",
          "name": "stdout",
          "text": [
            "Epoch 18/100 average loss: 2.4190\n"
          ]
        },
        {
          "output_type": "stream",
          "name": "stderr",
          "text": [
            "Epoch 19/100: 100%|██████████| 2941/2941 [01:50<00:00, 26.59it/s, loss=1.4836]\n"
          ]
        },
        {
          "output_type": "stream",
          "name": "stdout",
          "text": [
            "Epoch 19/100 average loss: 2.4042\n"
          ]
        },
        {
          "output_type": "stream",
          "name": "stderr",
          "text": [
            "Epoch 20/100: 100%|██████████| 2941/2941 [01:50<00:00, 26.62it/s, loss=2.5406]\n"
          ]
        },
        {
          "output_type": "stream",
          "name": "stdout",
          "text": [
            "Epoch 20/100 average loss: 2.3923\n"
          ]
        },
        {
          "output_type": "stream",
          "name": "stderr",
          "text": [
            "Epoch 21/100: 100%|██████████| 2941/2941 [01:50<00:00, 26.57it/s, loss=1.8056]\n"
          ]
        },
        {
          "output_type": "stream",
          "name": "stdout",
          "text": [
            "Epoch 21/100 average loss: 2.4094\n"
          ]
        },
        {
          "output_type": "stream",
          "name": "stderr",
          "text": [
            "Epoch 22/100: 100%|██████████| 2941/2941 [01:50<00:00, 26.62it/s, loss=3.4939]\n"
          ]
        },
        {
          "output_type": "stream",
          "name": "stdout",
          "text": [
            "Epoch 22/100 average loss: 2.4199\n"
          ]
        },
        {
          "output_type": "stream",
          "name": "stderr",
          "text": [
            "Epoch 23/100: 100%|██████████| 2941/2941 [01:50<00:00, 26.57it/s, loss=2.1095]\n"
          ]
        },
        {
          "output_type": "stream",
          "name": "stdout",
          "text": [
            "Epoch 23/100 average loss: 2.3964\n"
          ]
        },
        {
          "output_type": "stream",
          "name": "stderr",
          "text": [
            "Epoch 24/100: 100%|██████████| 2941/2941 [01:50<00:00, 26.58it/s, loss=2.2257]\n"
          ]
        },
        {
          "output_type": "stream",
          "name": "stdout",
          "text": [
            "Epoch 24/100 average loss: 2.3574\n"
          ]
        },
        {
          "output_type": "stream",
          "name": "stderr",
          "text": [
            "Epoch 25/100: 100%|██████████| 2941/2941 [01:50<00:00, 26.59it/s, loss=2.3092]\n"
          ]
        },
        {
          "output_type": "stream",
          "name": "stdout",
          "text": [
            "Epoch 25/100 average loss: 2.3777\n"
          ]
        },
        {
          "output_type": "stream",
          "name": "stderr",
          "text": [
            "Epoch 26/100: 100%|██████████| 2941/2941 [01:50<00:00, 26.52it/s, loss=2.5865]\n"
          ]
        },
        {
          "output_type": "stream",
          "name": "stdout",
          "text": [
            "Epoch 26/100 average loss: 2.3700\n"
          ]
        },
        {
          "output_type": "stream",
          "name": "stderr",
          "text": [
            "Epoch 27/100: 100%|██████████| 2941/2941 [01:50<00:00, 26.57it/s, loss=2.6117]\n"
          ]
        },
        {
          "output_type": "stream",
          "name": "stdout",
          "text": [
            "Epoch 27/100 average loss: 2.3625\n"
          ]
        },
        {
          "output_type": "stream",
          "name": "stderr",
          "text": [
            "Epoch 28/100: 100%|██████████| 2941/2941 [01:50<00:00, 26.61it/s, loss=2.5174]\n"
          ]
        },
        {
          "output_type": "stream",
          "name": "stdout",
          "text": [
            "Epoch 28/100 average loss: 2.3574\n"
          ]
        },
        {
          "output_type": "stream",
          "name": "stderr",
          "text": [
            "Epoch 29/100: 100%|██████████| 2941/2941 [01:50<00:00, 26.51it/s, loss=3.4744]\n"
          ]
        },
        {
          "output_type": "stream",
          "name": "stdout",
          "text": [
            "Epoch 29/100 average loss: 2.3446\n"
          ]
        },
        {
          "output_type": "stream",
          "name": "stderr",
          "text": [
            "Epoch 30/100: 100%|██████████| 2941/2941 [01:50<00:00, 26.51it/s, loss=2.5543]\n"
          ]
        },
        {
          "output_type": "stream",
          "name": "stdout",
          "text": [
            "Epoch 30/100 average loss: 2.3513\n"
          ]
        },
        {
          "output_type": "stream",
          "name": "stderr",
          "text": [
            "Epoch 31/100: 100%|██████████| 2941/2941 [01:50<00:00, 26.62it/s, loss=2.6699]\n"
          ]
        },
        {
          "output_type": "stream",
          "name": "stdout",
          "text": [
            "Epoch 31/100 average loss: 2.3604\n"
          ]
        },
        {
          "output_type": "stream",
          "name": "stderr",
          "text": [
            "Epoch 32/100: 100%|██████████| 2941/2941 [01:50<00:00, 26.56it/s, loss=3.1895]\n"
          ]
        },
        {
          "output_type": "stream",
          "name": "stdout",
          "text": [
            "Epoch 32/100 average loss: 2.3364\n"
          ]
        },
        {
          "output_type": "stream",
          "name": "stderr",
          "text": [
            "Epoch 33/100: 100%|██████████| 2941/2941 [01:50<00:00, 26.52it/s, loss=3.4054]\n"
          ]
        },
        {
          "output_type": "stream",
          "name": "stdout",
          "text": [
            "Epoch 33/100 average loss: 2.3582\n"
          ]
        },
        {
          "output_type": "stream",
          "name": "stderr",
          "text": [
            "Epoch 34/100: 100%|██████████| 2941/2941 [01:50<00:00, 26.56it/s, loss=2.3526]\n"
          ]
        },
        {
          "output_type": "stream",
          "name": "stdout",
          "text": [
            "Epoch 34/100 average loss: 2.3468\n"
          ]
        },
        {
          "output_type": "stream",
          "name": "stderr",
          "text": [
            "Epoch 35/100: 100%|██████████| 2941/2941 [01:51<00:00, 26.41it/s, loss=2.3839]\n"
          ]
        },
        {
          "output_type": "stream",
          "name": "stdout",
          "text": [
            "Epoch 35/100 average loss: 2.3163\n"
          ]
        },
        {
          "output_type": "stream",
          "name": "stderr",
          "text": [
            "Epoch 36/100: 100%|██████████| 2941/2941 [01:50<00:00, 26.57it/s, loss=1.4612]\n"
          ]
        },
        {
          "output_type": "stream",
          "name": "stdout",
          "text": [
            "Epoch 36/100 average loss: 2.3324\n"
          ]
        },
        {
          "output_type": "stream",
          "name": "stderr",
          "text": [
            "Epoch 37/100: 100%|██████████| 2941/2941 [01:50<00:00, 26.58it/s, loss=2.0277]\n"
          ]
        },
        {
          "output_type": "stream",
          "name": "stdout",
          "text": [
            "Epoch 37/100 average loss: 2.3385\n"
          ]
        },
        {
          "output_type": "stream",
          "name": "stderr",
          "text": [
            "Epoch 38/100: 100%|██████████| 2941/2941 [01:51<00:00, 26.48it/s, loss=2.7164]\n"
          ]
        },
        {
          "output_type": "stream",
          "name": "stdout",
          "text": [
            "Epoch 38/100 average loss: 2.3214\n"
          ]
        },
        {
          "output_type": "stream",
          "name": "stderr",
          "text": [
            "Epoch 39/100: 100%|██████████| 2941/2941 [01:50<00:00, 26.68it/s, loss=3.4672]\n"
          ]
        },
        {
          "output_type": "stream",
          "name": "stdout",
          "text": [
            "Epoch 39/100 average loss: 2.3182\n"
          ]
        },
        {
          "output_type": "stream",
          "name": "stderr",
          "text": [
            "Epoch 40/100: 100%|██████████| 2941/2941 [01:50<00:00, 26.51it/s, loss=1.7323]\n"
          ]
        },
        {
          "output_type": "stream",
          "name": "stdout",
          "text": [
            "Epoch 40/100 average loss: 2.3131\n"
          ]
        },
        {
          "output_type": "stream",
          "name": "stderr",
          "text": [
            "Epoch 41/100: 100%|██████████| 2941/2941 [01:50<00:00, 26.68it/s, loss=1.7797]\n"
          ]
        },
        {
          "output_type": "stream",
          "name": "stdout",
          "text": [
            "Epoch 41/100 average loss: 2.3136\n"
          ]
        },
        {
          "output_type": "stream",
          "name": "stderr",
          "text": [
            "Epoch 42/100: 100%|██████████| 2941/2941 [01:50<00:00, 26.62it/s, loss=1.2247]\n"
          ]
        },
        {
          "output_type": "stream",
          "name": "stdout",
          "text": [
            "Epoch 42/100 average loss: 2.2924\n"
          ]
        },
        {
          "output_type": "stream",
          "name": "stderr",
          "text": [
            "Epoch 43/100: 100%|██████████| 2941/2941 [01:50<00:00, 26.52it/s, loss=1.4152]\n"
          ]
        },
        {
          "output_type": "stream",
          "name": "stdout",
          "text": [
            "Epoch 43/100 average loss: 2.2902\n"
          ]
        },
        {
          "output_type": "stream",
          "name": "stderr",
          "text": [
            "Epoch 44/100: 100%|██████████| 2941/2941 [01:50<00:00, 26.68it/s, loss=1.5423]\n"
          ]
        },
        {
          "output_type": "stream",
          "name": "stdout",
          "text": [
            "Epoch 44/100 average loss: 2.3052\n"
          ]
        },
        {
          "output_type": "stream",
          "name": "stderr",
          "text": [
            "Epoch 45/100: 100%|██████████| 2941/2941 [01:50<00:00, 26.58it/s, loss=2.2811]\n"
          ]
        },
        {
          "output_type": "stream",
          "name": "stdout",
          "text": [
            "Epoch 45/100 average loss: 2.2783\n"
          ]
        },
        {
          "output_type": "stream",
          "name": "stderr",
          "text": [
            "Epoch 46/100: 100%|██████████| 2941/2941 [01:51<00:00, 26.48it/s, loss=2.1098]\n"
          ]
        },
        {
          "output_type": "stream",
          "name": "stdout",
          "text": [
            "Epoch 46/100 average loss: 2.2886\n"
          ]
        },
        {
          "output_type": "stream",
          "name": "stderr",
          "text": [
            "Epoch 47/100: 100%|██████████| 2941/2941 [01:50<00:00, 26.58it/s, loss=1.4993]\n"
          ]
        },
        {
          "output_type": "stream",
          "name": "stdout",
          "text": [
            "Epoch 47/100 average loss: 2.2664\n"
          ]
        },
        {
          "output_type": "stream",
          "name": "stderr",
          "text": [
            "Epoch 48/100: 100%|██████████| 2941/2941 [01:50<00:00, 26.58it/s, loss=1.7447]\n"
          ]
        },
        {
          "output_type": "stream",
          "name": "stdout",
          "text": [
            "Epoch 48/100 average loss: 2.2838\n"
          ]
        },
        {
          "output_type": "stream",
          "name": "stderr",
          "text": [
            "Epoch 49/100: 100%|██████████| 2941/2941 [01:51<00:00, 26.30it/s, loss=3.0452]\n"
          ]
        },
        {
          "output_type": "stream",
          "name": "stdout",
          "text": [
            "Epoch 49/100 average loss: 2.2874\n"
          ]
        },
        {
          "output_type": "stream",
          "name": "stderr",
          "text": [
            "Epoch 50/100: 100%|██████████| 2941/2941 [01:50<00:00, 26.58it/s, loss=2.3353]\n"
          ]
        },
        {
          "output_type": "stream",
          "name": "stdout",
          "text": [
            "Epoch 50/100 average loss: 2.2767\n"
          ]
        },
        {
          "output_type": "stream",
          "name": "stderr",
          "text": [
            "Epoch 51/100: 100%|██████████| 2941/2941 [01:51<00:00, 26.47it/s, loss=1.8585]\n"
          ]
        },
        {
          "output_type": "stream",
          "name": "stdout",
          "text": [
            "Epoch 51/100 average loss: 2.2449\n"
          ]
        },
        {
          "output_type": "stream",
          "name": "stderr",
          "text": [
            "Epoch 52/100: 100%|██████████| 2941/2941 [01:50<00:00, 26.53it/s, loss=2.0460]\n"
          ]
        },
        {
          "output_type": "stream",
          "name": "stdout",
          "text": [
            "Epoch 52/100 average loss: 2.2390\n"
          ]
        },
        {
          "output_type": "stream",
          "name": "stderr",
          "text": [
            "Epoch 53/100: 100%|██████████| 2941/2941 [01:50<00:00, 26.61it/s, loss=2.3224]\n"
          ]
        },
        {
          "output_type": "stream",
          "name": "stdout",
          "text": [
            "Epoch 53/100 average loss: 2.2490\n"
          ]
        },
        {
          "output_type": "stream",
          "name": "stderr",
          "text": [
            "Epoch 54/100: 100%|██████████| 2941/2941 [01:50<00:00, 26.54it/s, loss=2.7864]\n"
          ]
        },
        {
          "output_type": "stream",
          "name": "stdout",
          "text": [
            "Epoch 54/100 average loss: 2.2374\n"
          ]
        },
        {
          "output_type": "stream",
          "name": "stderr",
          "text": [
            "Epoch 55/100: 100%|██████████| 2941/2941 [01:50<00:00, 26.61it/s, loss=0.5697]\n"
          ]
        },
        {
          "output_type": "stream",
          "name": "stdout",
          "text": [
            "Epoch 55/100 average loss: 2.2205\n"
          ]
        },
        {
          "output_type": "stream",
          "name": "stderr",
          "text": [
            "Epoch 56/100: 100%|██████████| 2941/2941 [01:51<00:00, 26.46it/s, loss=1.2400]\n"
          ]
        },
        {
          "output_type": "stream",
          "name": "stdout",
          "text": [
            "Epoch 56/100 average loss: 2.2134\n"
          ]
        },
        {
          "output_type": "stream",
          "name": "stderr",
          "text": [
            "Epoch 57/100: 100%|██████████| 2941/2941 [01:50<00:00, 26.55it/s, loss=2.6484]\n"
          ]
        },
        {
          "output_type": "stream",
          "name": "stdout",
          "text": [
            "Epoch 57/100 average loss: 2.2244\n"
          ]
        },
        {
          "output_type": "stream",
          "name": "stderr",
          "text": [
            "Epoch 58/100: 100%|██████████| 2941/2941 [01:50<00:00, 26.60it/s, loss=1.7074]\n"
          ]
        },
        {
          "output_type": "stream",
          "name": "stdout",
          "text": [
            "Epoch 58/100 average loss: 2.1955\n"
          ]
        },
        {
          "output_type": "stream",
          "name": "stderr",
          "text": [
            "Epoch 59/100: 100%|██████████| 2941/2941 [01:50<00:00, 26.60it/s, loss=2.2443]\n"
          ]
        },
        {
          "output_type": "stream",
          "name": "stdout",
          "text": [
            "Epoch 59/100 average loss: 2.1967\n"
          ]
        },
        {
          "output_type": "stream",
          "name": "stderr",
          "text": [
            "Epoch 60/100: 100%|██████████| 2941/2941 [01:51<00:00, 26.47it/s, loss=0.7809]\n"
          ]
        },
        {
          "output_type": "stream",
          "name": "stdout",
          "text": [
            "Epoch 60/100 average loss: 2.1878\n"
          ]
        },
        {
          "output_type": "stream",
          "name": "stderr",
          "text": [
            "Epoch 61/100: 100%|██████████| 2941/2941 [01:50<00:00, 26.55it/s, loss=1.5238]\n"
          ]
        },
        {
          "output_type": "stream",
          "name": "stdout",
          "text": [
            "Epoch 61/100 average loss: 2.1883\n"
          ]
        },
        {
          "output_type": "stream",
          "name": "stderr",
          "text": [
            "Epoch 62/100: 100%|██████████| 2941/2941 [01:50<00:00, 26.62it/s, loss=3.1323]\n"
          ]
        },
        {
          "output_type": "stream",
          "name": "stdout",
          "text": [
            "Epoch 62/100 average loss: 2.1797\n"
          ]
        },
        {
          "output_type": "stream",
          "name": "stderr",
          "text": [
            "Epoch 63/100: 100%|██████████| 2941/2941 [01:50<00:00, 26.51it/s, loss=0.5459]\n"
          ]
        },
        {
          "output_type": "stream",
          "name": "stdout",
          "text": [
            "Epoch 63/100 average loss: 2.1543\n"
          ]
        },
        {
          "output_type": "stream",
          "name": "stderr",
          "text": [
            "Epoch 64/100: 100%|██████████| 2941/2941 [01:50<00:00, 26.57it/s, loss=1.8787]\n"
          ]
        },
        {
          "output_type": "stream",
          "name": "stdout",
          "text": [
            "Epoch 64/100 average loss: 2.1391\n"
          ]
        },
        {
          "output_type": "stream",
          "name": "stderr",
          "text": [
            "Epoch 65/100: 100%|██████████| 2941/2941 [01:50<00:00, 26.57it/s, loss=1.4833]\n"
          ]
        },
        {
          "output_type": "stream",
          "name": "stdout",
          "text": [
            "Epoch 65/100 average loss: 2.1486\n"
          ]
        },
        {
          "output_type": "stream",
          "name": "stderr",
          "text": [
            "Epoch 66/100: 100%|██████████| 2941/2941 [01:50<00:00, 26.50it/s, loss=2.7647]\n"
          ]
        },
        {
          "output_type": "stream",
          "name": "stdout",
          "text": [
            "Epoch 66/100 average loss: 2.1540\n"
          ]
        },
        {
          "output_type": "stream",
          "name": "stderr",
          "text": [
            "Epoch 67/100: 100%|██████████| 2941/2941 [01:50<00:00, 26.54it/s, loss=2.1817]\n"
          ]
        },
        {
          "output_type": "stream",
          "name": "stdout",
          "text": [
            "Epoch 67/100 average loss: 2.1475\n"
          ]
        },
        {
          "output_type": "stream",
          "name": "stderr",
          "text": [
            "Epoch 68/100: 100%|██████████| 2941/2941 [01:51<00:00, 26.46it/s, loss=0.7104]\n"
          ]
        },
        {
          "output_type": "stream",
          "name": "stdout",
          "text": [
            "Epoch 68/100 average loss: 2.1134\n"
          ]
        },
        {
          "output_type": "stream",
          "name": "stderr",
          "text": [
            "Epoch 69/100: 100%|██████████| 2941/2941 [01:50<00:00, 26.51it/s, loss=2.7858]\n"
          ]
        },
        {
          "output_type": "stream",
          "name": "stdout",
          "text": [
            "Epoch 69/100 average loss: 2.1512\n"
          ]
        },
        {
          "output_type": "stream",
          "name": "stderr",
          "text": [
            "Epoch 70/100: 100%|██████████| 2941/2941 [01:51<00:00, 26.46it/s, loss=1.9892]\n"
          ]
        },
        {
          "output_type": "stream",
          "name": "stdout",
          "text": [
            "Epoch 70/100 average loss: 2.1229\n"
          ]
        },
        {
          "output_type": "stream",
          "name": "stderr",
          "text": [
            "Epoch 71/100: 100%|██████████| 2941/2941 [01:50<00:00, 26.52it/s, loss=1.8833]\n"
          ]
        },
        {
          "output_type": "stream",
          "name": "stdout",
          "text": [
            "Epoch 71/100 average loss: 2.1404\n"
          ]
        },
        {
          "output_type": "stream",
          "name": "stderr",
          "text": [
            "Epoch 72/100: 100%|██████████| 2941/2941 [01:50<00:00, 26.51it/s, loss=0.7497]\n"
          ]
        },
        {
          "output_type": "stream",
          "name": "stdout",
          "text": [
            "Epoch 72/100 average loss: 2.1112\n"
          ]
        },
        {
          "output_type": "stream",
          "name": "stderr",
          "text": [
            "Epoch 73/100: 100%|██████████| 2941/2941 [01:50<00:00, 26.55it/s, loss=1.0128]\n"
          ]
        },
        {
          "output_type": "stream",
          "name": "stdout",
          "text": [
            "Epoch 73/100 average loss: 2.1170\n"
          ]
        },
        {
          "output_type": "stream",
          "name": "stderr",
          "text": [
            "Epoch 74/100: 100%|██████████| 2941/2941 [01:50<00:00, 26.53it/s, loss=1.9124]\n"
          ]
        },
        {
          "output_type": "stream",
          "name": "stdout",
          "text": [
            "Epoch 74/100 average loss: 2.1256\n"
          ]
        },
        {
          "output_type": "stream",
          "name": "stderr",
          "text": [
            "Epoch 75/100: 100%|██████████| 2941/2941 [01:50<00:00, 26.54it/s, loss=1.0785]\n"
          ]
        },
        {
          "output_type": "stream",
          "name": "stdout",
          "text": [
            "Epoch 75/100 average loss: 2.1159\n"
          ]
        },
        {
          "output_type": "stream",
          "name": "stderr",
          "text": [
            "Epoch 76/100: 100%|██████████| 2941/2941 [01:51<00:00, 26.47it/s, loss=2.6634]\n"
          ]
        },
        {
          "output_type": "stream",
          "name": "stdout",
          "text": [
            "Epoch 76/100 average loss: 2.1133\n"
          ]
        },
        {
          "output_type": "stream",
          "name": "stderr",
          "text": [
            "Epoch 77/100: 100%|██████████| 2941/2941 [01:50<00:00, 26.62it/s, loss=0.9872]\n"
          ]
        },
        {
          "output_type": "stream",
          "name": "stdout",
          "text": [
            "Epoch 77/100 average loss: 2.0876\n"
          ]
        },
        {
          "output_type": "stream",
          "name": "stderr",
          "text": [
            "Epoch 78/100: 100%|██████████| 2941/2941 [01:50<00:00, 26.57it/s, loss=3.5014]\n"
          ]
        },
        {
          "output_type": "stream",
          "name": "stdout",
          "text": [
            "Epoch 78/100 average loss: 2.0839\n"
          ]
        },
        {
          "output_type": "stream",
          "name": "stderr",
          "text": [
            "Epoch 79/100: 100%|██████████| 2941/2941 [01:50<00:00, 26.58it/s, loss=1.2608]\n"
          ]
        },
        {
          "output_type": "stream",
          "name": "stdout",
          "text": [
            "Epoch 79/100 average loss: 2.0906\n"
          ]
        },
        {
          "output_type": "stream",
          "name": "stderr",
          "text": [
            "Epoch 80/100: 100%|██████████| 2941/2941 [01:51<00:00, 26.44it/s, loss=1.3340]\n"
          ]
        },
        {
          "output_type": "stream",
          "name": "stdout",
          "text": [
            "Epoch 80/100 average loss: 2.1108\n"
          ]
        },
        {
          "output_type": "stream",
          "name": "stderr",
          "text": [
            "Epoch 81/100: 100%|██████████| 2941/2941 [01:50<00:00, 26.52it/s, loss=2.7081]\n"
          ]
        },
        {
          "output_type": "stream",
          "name": "stdout",
          "text": [
            "Epoch 81/100 average loss: 2.0830\n"
          ]
        },
        {
          "output_type": "stream",
          "name": "stderr",
          "text": [
            "Epoch 82/100: 100%|██████████| 2941/2941 [01:51<00:00, 26.48it/s, loss=2.3796]\n"
          ]
        },
        {
          "output_type": "stream",
          "name": "stdout",
          "text": [
            "Epoch 82/100 average loss: 2.0898\n"
          ]
        },
        {
          "output_type": "stream",
          "name": "stderr",
          "text": [
            "Epoch 83/100: 100%|██████████| 2941/2941 [01:51<00:00, 26.44it/s, loss=2.1589]\n"
          ]
        },
        {
          "output_type": "stream",
          "name": "stdout",
          "text": [
            "Epoch 83/100 average loss: 2.0855\n"
          ]
        },
        {
          "output_type": "stream",
          "name": "stderr",
          "text": [
            "Epoch 84/100: 100%|██████████| 2941/2941 [01:51<00:00, 26.45it/s, loss=1.0633]\n"
          ]
        },
        {
          "output_type": "stream",
          "name": "stdout",
          "text": [
            "Epoch 84/100 average loss: 2.0549\n"
          ]
        },
        {
          "output_type": "stream",
          "name": "stderr",
          "text": [
            "Epoch 85/100: 100%|██████████| 2941/2941 [01:51<00:00, 26.44it/s, loss=1.8295]\n"
          ]
        },
        {
          "output_type": "stream",
          "name": "stdout",
          "text": [
            "Epoch 85/100 average loss: 2.0753\n"
          ]
        },
        {
          "output_type": "stream",
          "name": "stderr",
          "text": [
            "Epoch 86/100: 100%|██████████| 2941/2941 [01:51<00:00, 26.44it/s, loss=3.0605]\n"
          ]
        },
        {
          "output_type": "stream",
          "name": "stdout",
          "text": [
            "Epoch 86/100 average loss: 2.0609\n"
          ]
        },
        {
          "output_type": "stream",
          "name": "stderr",
          "text": [
            "Epoch 87/100: 100%|██████████| 2941/2941 [01:51<00:00, 26.42it/s, loss=1.5413]\n"
          ]
        },
        {
          "output_type": "stream",
          "name": "stdout",
          "text": [
            "Epoch 87/100 average loss: 2.0543\n"
          ]
        },
        {
          "output_type": "stream",
          "name": "stderr",
          "text": [
            "Epoch 88/100: 100%|██████████| 2941/2941 [01:50<00:00, 26.50it/s, loss=1.9705]\n"
          ]
        },
        {
          "output_type": "stream",
          "name": "stdout",
          "text": [
            "Epoch 88/100 average loss: 2.0626\n"
          ]
        },
        {
          "output_type": "stream",
          "name": "stderr",
          "text": [
            "Epoch 89/100: 100%|██████████| 2941/2941 [01:51<00:00, 26.45it/s, loss=1.3458]\n"
          ]
        },
        {
          "output_type": "stream",
          "name": "stdout",
          "text": [
            "Epoch 89/100 average loss: 2.0509\n"
          ]
        },
        {
          "output_type": "stream",
          "name": "stderr",
          "text": [
            "Epoch 90/100: 100%|██████████| 2941/2941 [01:51<00:00, 26.46it/s, loss=2.9155]\n"
          ]
        },
        {
          "output_type": "stream",
          "name": "stdout",
          "text": [
            "Epoch 90/100 average loss: 2.0719\n"
          ]
        },
        {
          "output_type": "stream",
          "name": "stderr",
          "text": [
            "Epoch 91/100: 100%|██████████| 2941/2941 [01:50<00:00, 26.56it/s, loss=0.5699]\n"
          ]
        },
        {
          "output_type": "stream",
          "name": "stdout",
          "text": [
            "Epoch 91/100 average loss: 2.0531\n"
          ]
        },
        {
          "output_type": "stream",
          "name": "stderr",
          "text": [
            "Epoch 92/100: 100%|██████████| 2941/2941 [01:51<00:00, 26.45it/s, loss=2.0142]\n"
          ]
        },
        {
          "output_type": "stream",
          "name": "stdout",
          "text": [
            "Epoch 92/100 average loss: 2.0481\n"
          ]
        },
        {
          "output_type": "stream",
          "name": "stderr",
          "text": [
            "Epoch 93/100: 100%|██████████| 2941/2941 [01:50<00:00, 26.51it/s, loss=1.0428]\n"
          ]
        },
        {
          "output_type": "stream",
          "name": "stdout",
          "text": [
            "Epoch 93/100 average loss: 2.0281\n"
          ]
        },
        {
          "output_type": "stream",
          "name": "stderr",
          "text": [
            "Epoch 94/100: 100%|██████████| 2941/2941 [01:50<00:00, 26.51it/s, loss=1.9199]\n"
          ]
        },
        {
          "output_type": "stream",
          "name": "stdout",
          "text": [
            "Epoch 94/100 average loss: 2.0450\n"
          ]
        },
        {
          "output_type": "stream",
          "name": "stderr",
          "text": [
            "Epoch 95/100: 100%|██████████| 2941/2941 [01:50<00:00, 26.50it/s, loss=2.2799]\n"
          ]
        },
        {
          "output_type": "stream",
          "name": "stdout",
          "text": [
            "Epoch 95/100 average loss: 2.0357\n"
          ]
        },
        {
          "output_type": "stream",
          "name": "stderr",
          "text": [
            "Epoch 96/100: 100%|██████████| 2941/2941 [01:51<00:00, 26.42it/s, loss=1.8102]\n"
          ]
        },
        {
          "output_type": "stream",
          "name": "stdout",
          "text": [
            "Epoch 96/100 average loss: 2.0397\n"
          ]
        },
        {
          "output_type": "stream",
          "name": "stderr",
          "text": [
            "Epoch 97/100: 100%|██████████| 2941/2941 [01:51<00:00, 26.47it/s, loss=2.3950]\n"
          ]
        },
        {
          "output_type": "stream",
          "name": "stdout",
          "text": [
            "Epoch 97/100 average loss: 2.0199\n"
          ]
        },
        {
          "output_type": "stream",
          "name": "stderr",
          "text": [
            "Epoch 98/100: 100%|██████████| 2941/2941 [01:51<00:00, 26.46it/s, loss=0.6032]\n"
          ]
        },
        {
          "output_type": "stream",
          "name": "stdout",
          "text": [
            "Epoch 98/100 average loss: 2.0093\n"
          ]
        },
        {
          "output_type": "stream",
          "name": "stderr",
          "text": [
            "Epoch 99/100: 100%|██████████| 2941/2941 [01:51<00:00, 26.45it/s, loss=2.4137]\n"
          ]
        },
        {
          "output_type": "stream",
          "name": "stdout",
          "text": [
            "Epoch 99/100 average loss: 2.0322\n"
          ]
        },
        {
          "output_type": "stream",
          "name": "stderr",
          "text": [
            "Epoch 100/100: 100%|██████████| 2941/2941 [01:51<00:00, 26.41it/s, loss=2.9819]\n"
          ]
        },
        {
          "output_type": "stream",
          "name": "stdout",
          "text": [
            "Epoch 100/100 average loss: 2.0366\n",
            "✅ Training complete!\n"
          ]
        },
        {
          "output_type": "display_data",
          "data": {
            "text/plain": [
              "<Figure size 1000x600 with 1 Axes>"
            ],
            "image/png": "[encoded data removed]"
          },
          "metadata": {}
        }
      ],
      "source": [
        "# 🏋️ TRAINING\n",
        "\n",
        "# Initialize model\n",
        "model = BijectiveDiffusionModel(config).to(device)\n",
        "optimizer = optim.AdamW(model.parameters(), lr=1e-4)\n",
        "\n",
        "print(f\"Model parameters: {sum(p.numel() for p in model.parameters()):,}\")\n",
        "print(\"Starting training...\")\n",
        "\n",
        "# Training loop\n",
        "model.train()\n",
        "losses = []\n",
        "num_epochs = 100 # Configurable number of epochs\n",
        "max_batches_per_epoch = None # Set to an integer to limit, or None for full epoch\n",
        "\n",
        "for epoch in range(num_epochs):\n",
        "    epoch_losses = []\n",
        "\n",
        "    pbar = tqdm(train_loader, desc=f\"Epoch {epoch+1}/{num_epochs}\")\n",
        "    for i, batch in enumerate(pbar):\n",
        "        if max_batches_per_epoch is not None and i >= max_batches_per_epoch:\n",
        "            print(f\"Limiting epoch to {max_batches_per_epoch} batches.\")\n",
        "            break\n",
        "\n",
        "        input_ids = batch['input_ids'].to(device)\n",
        "        attention_mask = batch['attention_mask'].to(device)\n",
        "\n",
        "        optimizer.zero_grad()\n",
        "\n",
        "        outputs = model.training_step(input_ids, attention_mask)\n",
        "        loss = outputs['loss']\n",
        "\n",
        "        loss.backward()\n",
        "        optimizer.step()\n",
        "\n",
        "        epoch_losses.append(loss.item())\n",
        "        pbar.set_postfix({'loss': f'{loss.item():.4f}'})\n",
        "\n",
        "    avg_loss = np.mean(epoch_losses)\n",
        "    losses.extend(epoch_losses)\n",
        "    print(f\"Epoch {epoch+1}/{num_epochs} average loss: {avg_loss:.4f}\")\n",
        "\n",
        "print(\"✅ Training complete!\")\n",
        "\n",
        "# Plot training losses\n",
        "plt.figure(figsize=(10, 6))\n",
        "plt.plot(losses)\n",
        "plt.title('Training Loss Over Steps')\n",
        "plt.xlabel('Training Step')\n",
        "plt.ylabel('Loss')\n",
        "plt.grid(True)\n",
        "plt.show()"
      ]
    },
    {
      "cell_type": "code",
      "execution_count": 5,
      "metadata": {
        "colab": {
          "base_uri": "https://localhost:8080/"
        },
        "id": "save_model",
        "outputId": "294e0f54-2c1d-403a-b4c2-50bbc9fb1847"
      },
      "outputs": [
        {
          "output_type": "stream",
          "name": "stdout",
          "text": [
            "Saving model state_dict to: bijective_diffusion_model_wikitext2.pt\n",
            "Saving model config to: bijective_diffusion_config_wikitext2.json\n",
            "✅ Model and config saved successfully!\n",
            "\n",
            "To download the model and config, run the following in separate cells:\n",
            "from google.colab import files\n",
            "files.download('bijective_diffusion_model_wikitext2.pt')\n",
            "from google.colab import files\n",
            "files.download('bijective_diffusion_config_wikitext2.json')\n"
          ]
        }
      ],
      "source": [
        "# 💾 SAVE TRAINED MODEL\n",
        "\n",
        "# Define paths\n",
        "model_save_path = \"bijective_diffusion_model_wikitext2.pt\"\n",
        "config_save_path = \"bijective_diffusion_config_wikitext2.json\"\n",
        "\n",
        "print(f\"Saving model state_dict to: {model_save_path}\")\n",
        "torch.save(model.state_dict(), model_save_path)\n",
        "\n",
        "print(f\"Saving model config to: {config_save_path}\")\n",
        "# 'config' is the Config object used for the model\n",
        "model_config_dict = {\n",
        "    \"vocab_size\": config.vocab_size,\n",
        "    \"max_seq_length\": config.max_seq_length,\n",
        "    \"embed_dim\": config.embed_dim,\n",
        "    \"num_layers\": config.num_layers,\n",
        "    \"num_heads\": config.num_heads,\n",
        "    \"dropout\": config.dropout\n",
        "}\n",
        "\n",
        "with open(config_save_path, 'w') as f:\n",
        "    json.dump(model_config_dict, f, indent=2)\n",
        "\n",
        "print(\"✅ Model and config saved successfully!\")\n",
        "\n",
        "# Option to download from Colab\n",
        "try:\n",
        "    from google.colab import files\n",
        "    print(\"\\nTo download the model and config, run the following in separate cells:\")\n",
        "    print(f\"from google.colab import files\\nfiles.download('{model_save_path}')\")\n",
        "    print(f\"from google.colab import files\\nfiles.download('{config_save_path}')\")\n",
        "except ImportError:\n",
        "    print(\"\\nNot in Colab environment, files saved locally.\")\n",
        "\n",
        "# Optional: Save to Google Drive (if mounted)\n",
        "# drive_path = \"/content/drive/MyDrive/models/\"\n",
        "# if os.path.exists(\"/content/drive\"):\n",
        "#     os.makedirs(drive_path, exist_ok=True)\n",
        "#     torch.save(model.state_dict(), os.path.join(drive_path, model_save_path))\n",
        "#     with open(os.path.join(drive_path, config_save_path), 'w') as f:\n",
        "#         json.dump(model_config_dict, f, indent=2)\n",
        "#     print(f\"✅ Model also saved to Google Drive: {drive_path}\")"
      ]
    },
    {
      "cell_type": "code",
      "execution_count": 6,
      "metadata": {
        "colab": {
          "base_uri": "https://localhost:8080/"
        },
        "id": "enhanced_generation",
        "outputId": "d9850740-0490-4cae-c101-e22d8b35af04"
      },
      "outputs": [
        {
          "output_type": "stream",
          "name": "stdout",
          "text": [
            "🎯 Enhanced Generation Examples (Proper Discrete Diffusion)\n",
            "======================================================================\n",
            "Running discrete diffusion generation tests...\n",
            "\n",
            "\n",
            "======================================================================\n",
            "TEST CASE 1\n",
            "======================================================================\n",
            "Prompt: 'The future of artificial intelligence will'\n",
            "Settings: max_length=50, num_steps=30\n",
            "\n",
            "============================================================\n",
            "DISCRETE DIFFUSION GENERATION DEBUG\n",
            "============================================================\n",
            "Prompt: 'The future of artificial intelligence will'\n",
            "Prompt tokens: [464, 2003, 286, 11666, 4430, 481]\n",
            "Prompt length: 6, Max length: 50\n",
            "Initial random completion tokens: [31783, 46685, 3232, 28561, 23745, 40229, 36615, 37910, 13941, 12491, 6734, 49437, 47260, 34009, 49069, 3595, 25460, 5337, 14575, 43044, 21107, 11527, 23026, 5806, 41777, 20265, 41112, 30518, 3933, 4825, 36785, 27874, 10637, 13114, 9130, 8691, 4417, 4077, 45497, 42983, 28125, 3186, 3941, 2664]\n",
            "Initial sequence: 'The future of artificial intelligence will BaseTypeHOU Free LabyrinthmaresKids chewingherical avoidedwheampionership Shadesserious excruciating poorPres novelasketball tidyrez caveanton wear Taiwanese Democracy Panda seism 32TC glare Springfield transgender unnecessary 06mont surface green HHSワン Fargo products Billuses'\n",
            "\n",
            "Starting reverse diffusion process...\n",
            "\n",
            "--- Step 1/30, Timestep 999 ---\n",
            "Sampling with temperature: 0.80\n",
            "Current tokens: [326, 1279, 262, 262, 286, 318, 31550, 621, 37034, 287, 19379, 1474, 764, 262, 326, 3595, 1751, 287, 2116, 837, 286, 29, 1279, 705, 286, 262, 290, 262, 4168, 319, 481, 3942, 357, 4369, 837, 4106, 3175, 837, 1139, 262, 477, 29, 691, 326]\n",
            "Current text: 'The future of artificial intelligence will that < the the of is Guitar than Sites in posters near . the that poor children in self , of> < ' of the and the skin on will Indian ( disease ,ki Pal , says the all> only that'\n",
            "\n",
            "--- Step 7/30, Timestep 792 ---\n",
            "Sampling with temperature: 0.64\n",
            "Current tokens: [326, 1279, 262, 262, 286, 318, 407, 621, 4635, 287, 262, 5509, 764, 262, 326, 3595, 1751, 287, 10241, 837, 286, 29, 1279, 2954, 286, 262, 290, 262, 4168, 319, 481, 1021, 357, 4369, 837, 837, 1854, 837, 290, 1279, 2954, 29, 691, 326]\n",
            "Current text: 'The future of artificial intelligence will that < the the of is not than produced in the tree . the that poor children in pregnancy , of> <unk of the and the skin on will hand ( disease , , others , and <unk> only that'\n",
            "\n",
            "--- Step 13/30, Timestep 585 ---\n",
            "Sampling with temperature: 0.48\n",
            "Current tokens: [326, 1279, 262, 262, 286, 318, 407, 621, 4635, 287, 262, 5509, 764, 262, 326, 3595, 1751, 287, 10241, 837, 286, 29, 1279, 2954, 286, 262, 290, 262, 4168, 319, 481, 1021, 357, 4369, 837, 837, 1854, 837, 290, 1279, 2954, 29, 691, 326]\n",
            "Current text: 'The future of artificial intelligence will that < the the of is not than produced in the tree . the that poor children in pregnancy , of> <unk of the and the skin on will hand ( disease , , others , and <unk> only that'\n",
            "\n",
            "--- Step 19/30, Timestep 378 ---\n",
            "Sampling with temperature: 0.32\n",
            "Current tokens: [326, 1279, 262, 262, 286, 318, 407, 621, 4635, 287, 262, 5509, 764, 262, 326, 3595, 1751, 287, 10241, 837, 286, 29, 1279, 2954, 286, 262, 290, 262, 4168, 319, 481, 1021, 357, 4369, 837, 837, 1854, 837, 290, 1279, 2954, 29, 691, 326]\n",
            "Current text: 'The future of artificial intelligence will that < the the of is not than produced in the tree . the that poor children in pregnancy , of> <unk of the and the skin on will hand ( disease , , others , and <unk> only that'\n",
            "\n",
            "--- Step 25/30, Timestep 172 ---\n",
            "Sampling with temperature: 0.16\n",
            "Current tokens: [326, 1279, 262, 262, 286, 318, 407, 621, 4635, 287, 262, 5509, 764, 262, 326, 3595, 1751, 287, 10241, 837, 286, 29, 1279, 2954, 286, 262, 290, 262, 4168, 319, 481, 1021, 357, 4369, 837, 837, 1854, 837, 290, 1279, 2954, 29, 691, 326]\n",
            "Current text: 'The future of artificial intelligence will that < the the of is not than produced in the tree . the that poor children in pregnancy , of> <unk of the and the skin on will hand ( disease , , others , and <unk> only that'\n",
            "\n",
            "--- Step 30/30, Timestep 0 ---\n",
            "Final step: using argmax\n",
            "Current tokens: [326, 1279, 262, 262, 286, 318, 407, 621, 4635, 287, 262, 5509, 764, 262, 326, 3595, 1751, 287, 10241, 837, 286, 29, 1279, 2954, 286, 262, 290, 262, 4168, 319, 481, 1021, 357, 4369, 837, 837, 1854, 837, 290, 1279, 2954, 29, 691, 326]\n",
            "Current text: 'The future of artificial intelligence will that < the the of is not than produced in the tree . the that poor children in pregnancy , of> <unk of the and the skin on will hand ( disease , , others , and <unk> only that'\n",
            "\n",
            "============================================================\n",
            "FINAL RESULT: 'The future of artificial intelligence will that < the the of is not than produced in the tree . the that poor children in pregnancy , of> <unk of the and the skin on will hand ( disease , , others , and <unk> only that'\n",
            "============================================================\n",
            "======================================================================\n",
            "\n",
            "======================================================================\n",
            "TEST CASE 2\n",
            "======================================================================\n",
            "Prompt: 'In a distant galaxy, explorers discovered'\n",
            "Settings: max_length=60, num_steps=25\n",
            "\n",
            "Generated: 'In a distant galaxy, explorers discoveredunk> @-@@ and T entrance to <unk> , in < of of which , it is to . <unk> . In the , over , a location under the in <unk> of one of the UK , . He had been destroyed .'\n",
            "======================================================================\n",
            "\n",
            "======================================================================\n",
            "TEST CASE 3\n",
            "======================================================================\n",
            "Prompt: 'The secret to happiness lies in'\n",
            "Settings: max_length=45, num_steps=20\n",
            "\n",
            "Generated: 'The secret to happiness lies in <unk> by the to <unk> rumors of worship inunk> <unk> <> to be as fox in the in in 1887 .par as or on <unk> .'\n",
            "======================================================================\n",
            "\n",
            "======================================================================\n",
            "TEST CASE 4\n",
            "======================================================================\n",
            "Prompt: 'When the last robot shut down, humanity realized'\n",
            "Settings: max_length=55, num_steps=35\n",
            "\n",
            "Generated: 'When the last robot shut down, humanity realized by @..@ 0 , <unk> ) . <unk> construction of water , the with not of no figures more <unk> by @.@ , three @-@ <> by six @,@ ,'\n",
            "======================================================================\n",
            "\n",
            "✅ Discrete diffusion generation complete!\n",
            "💡 This implementation follows the proper reverse diffusion process:\n",
            "   • Starts with random tokens in completion area\n",
            "   • Uses decreasing timestep schedule (999→0)\n",
            "   • Model gradually denoises to produce coherent text\n"
          ]
        }
      ],
      "source": [
        "# 🎯 ENHANCED GENERATION DEMO (Proper Discrete Diffusion)\n",
        "\n",
        "import torch\n",
        "import torch.nn.functional as F\n",
        "import numpy as np\n",
        "\n",
        "def generate_text_proper_diffusion(model, tokenizer, prompt, max_length=64, num_steps=50, temperature=1.0, debug=False):\n",
        "    \"\"\"\n",
        "    Generate text using proper discrete diffusion reverse process.\n",
        "\n",
        "    This follows the exact reverse of the training process:\n",
        "    1. Start with random tokens in completion area\n",
        "    2. Use decreasing timestep schedule (999 -> 0)\n",
        "    3. At each step, model predicts clean tokens\n",
        "    4. Gradually reduce noise level\n",
        "    \"\"\"\n",
        "    model.eval()\n",
        "\n",
        "    if debug:\n",
        "        print(f\"\\n{'='*60}\")\n",
        "        print(f\"DISCRETE DIFFUSION GENERATION DEBUG\")\n",
        "        print(f\"{'='*60}\")\n",
        "        print(f\"Prompt: '{prompt}'\")\n",
        "\n",
        "    # Ensure we don't exceed model capacity\n",
        "    effective_max_length = min(max_length, model.config.max_seq_length)\n",
        "\n",
        "    # Tokenize prompt\n",
        "    prompt_ids = tokenizer.encode(prompt, return_tensors='pt').to(device)\n",
        "    prompt_length = prompt_ids.shape[1]\n",
        "\n",
        "    if debug:\n",
        "        print(f\"Prompt tokens: {prompt_ids[0].tolist()}\")\n",
        "        print(f\"Prompt length: {prompt_length}, Max length: {effective_max_length}\")\n",
        "\n",
        "    if prompt_length >= effective_max_length:\n",
        "        if debug:\n",
        "            print(\"Warning: Prompt too long, returning truncated\")\n",
        "        return tokenizer.decode(prompt_ids[0, :effective_max_length], skip_special_tokens=True)\n",
        "\n",
        "    # Create sequence: prompt + random completion tokens\n",
        "    sequence = torch.zeros(1, effective_max_length, dtype=torch.long, device=device)\n",
        "    sequence[0, :prompt_length] = prompt_ids[0]\n",
        "\n",
        "    # Initialize completion area with random tokens (avoiding special tokens)\n",
        "    completion_length = effective_max_length - prompt_length\n",
        "    # Use tokens from vocabulary, avoiding pad/eos/unk tokens\n",
        "    vocab_start = max(1, getattr(tokenizer, 'vocab_size', 50257) // 100)  # Start from reasonable vocab range\n",
        "    vocab_end = min(model.config.vocab_size - 1, getattr(tokenizer, 'vocab_size', 50257) - 100)\n",
        "\n",
        "    random_completion = torch.randint(vocab_start, vocab_end, (completion_length,), device=device)\n",
        "    sequence[0, prompt_length:] = random_completion\n",
        "\n",
        "    if debug:\n",
        "        print(f\"Initial random completion tokens: {random_completion.tolist()}\")\n",
        "        print(f\"Initial sequence: '{tokenizer.decode(sequence[0], skip_special_tokens=True)}'\")\n",
        "        print(f\"\\nStarting reverse diffusion process...\")\n",
        "\n",
        "    # Reverse diffusion: high timestep (999) -> low timestep (0)\n",
        "    # This matches the training where high timestep = more noise\n",
        "    timesteps = np.linspace(999, 0, num_steps).astype(int)\n",
        "\n",
        "    with torch.no_grad():\n",
        "        for step_idx, timestep in enumerate(timesteps):\n",
        "            t = torch.tensor([timestep], device=device)\n",
        "\n",
        "            if debug and (step_idx % max(1, num_steps // 5) == 0 or step_idx == len(timesteps) - 1):\n",
        "                print(f\"\\n--- Step {step_idx+1}/{num_steps}, Timestep {timestep} ---\")\n",
        "\n",
        "            # Get model predictions for entire sequence\n",
        "            logits = model(sequence, t)\n",
        "\n",
        "            # Focus on completion area\n",
        "            completion_logits = logits[0, prompt_length:prompt_length + completion_length]\n",
        "\n",
        "            if step_idx == len(timesteps) - 1:\n",
        "                # Final step: use deterministic prediction\n",
        "                new_completion = torch.argmax(completion_logits, dim=-1)\n",
        "                if debug:\n",
        "                    print(\"Final step: using argmax\")\n",
        "            else:\n",
        "                # Intermediate steps: sample with temperature\n",
        "                # Higher temperature early, lower temperature later\n",
        "                step_temperature = temperature * (1.0 - step_idx / len(timesteps))\n",
        "                step_temperature = max(0.1, step_temperature)\n",
        "\n",
        "                probs = F.softmax(completion_logits / step_temperature, dim=-1)\n",
        "                new_completion = torch.multinomial(probs, 1).squeeze(-1)\n",
        "\n",
        "                if debug and (step_idx % max(1, num_steps // 5) == 0):\n",
        "                    print(f\"Sampling with temperature: {step_temperature:.2f}\")\n",
        "\n",
        "            # Update only the completion area\n",
        "            sequence[0, prompt_length:prompt_length + completion_length] = new_completion\n",
        "\n",
        "            if debug and (step_idx % max(1, num_steps // 5) == 0 or step_idx == len(timesteps) - 1):\n",
        "                current_text = tokenizer.decode(sequence[0], skip_special_tokens=True)\n",
        "                print(f\"Current tokens: {new_completion.tolist()}\")\n",
        "                print(f\"Current text: '{current_text}'\")\n",
        "\n",
        "    final_text = tokenizer.decode(sequence[0], skip_special_tokens=True)\n",
        "\n",
        "    if debug:\n",
        "        print(f\"\\n{'='*60}\")\n",
        "        print(f\"FINAL RESULT: '{final_text}'\")\n",
        "        print(f\"{'='*60}\")\n",
        "\n",
        "    return final_text\n",
        "\n",
        "def generate_text_simple(model, tokenizer, prompt, max_length=64, num_steps=20):\n",
        "    \"\"\"Simplified version for normal use\"\"\"\n",
        "    return generate_text_proper_diffusion(\n",
        "        model, tokenizer, prompt, max_length, num_steps,\n",
        "        temperature=0.8, debug=False\n",
        "    )\n",
        "\n",
        "print(\"🎯 Enhanced Generation Examples (Proper Discrete Diffusion)\")\n",
        "print(\"=\" * 70)\n",
        "\n",
        "# Test cases - starting with debug mode for first example\n",
        "test_cases = [\n",
        "    {\n",
        "        \"prompt\": \"The future of artificial intelligence will\",\n",
        "        \"max_length\": 50,\n",
        "        \"num_steps\": 30,\n",
        "        \"debug\": True  # Debug the first one\n",
        "    },\n",
        "    {\n",
        "        \"prompt\": \"In a distant galaxy, explorers discovered\",\n",
        "        \"max_length\": 60,\n",
        "        \"num_steps\": 25,\n",
        "        \"debug\": False\n",
        "    },\n",
        "    {\n",
        "        \"prompt\": \"The secret to happiness lies in\",\n",
        "        \"max_length\": 45,\n",
        "        \"num_steps\": 20,\n",
        "        \"debug\": False\n",
        "    },\n",
        "    {\n",
        "        \"prompt\": \"When the last robot shut down, humanity realized\",\n",
        "        \"max_length\": 55,\n",
        "        \"num_steps\": 35,\n",
        "        \"debug\": False\n",
        "    }\n",
        "]\n",
        "\n",
        "if 'model' in globals() and 'tokenizer' in globals() and 'device' in globals():\n",
        "    print(\"Running discrete diffusion generation tests...\\n\")\n",
        "\n",
        "    for i, case in enumerate(test_cases):\n",
        "        print(f\"\\n{'='*70}\")\n",
        "        print(f\"TEST CASE {i+1}\")\n",
        "        print(f\"{'='*70}\")\n",
        "        print(f\"Prompt: '{case['prompt']}'\")\n",
        "        print(f\"Settings: max_length={case['max_length']}, num_steps={case['num_steps']}\")\n",
        "\n",
        "        try:\n",
        "            generated_text = generate_text_proper_diffusion(\n",
        "                model=model,\n",
        "                tokenizer=tokenizer,\n",
        "                prompt=case['prompt'],\n",
        "                max_length=case['max_length'],\n",
        "                num_steps=case['num_steps'],\n",
        "                temperature=0.8,\n",
        "                debug=case.get('debug', False)\n",
        "            )\n",
        "\n",
        "            if not case.get('debug', False):\n",
        "                print(f\"\\nGenerated: '{generated_text}'\")\n",
        "\n",
        "        except Exception as e:\n",
        "            print(f\"ERROR: {e}\")\n",
        "            import traceback\n",
        "            traceback.print_exc()\n",
        "\n",
        "        print(\"=\" * 70)\n",
        "\n",
        "    print(f\"\\n✅ Discrete diffusion generation complete!\")\n",
        "    print(f\"💡 This implementation follows the proper reverse diffusion process:\")\n",
        "    print(f\"   • Starts with random tokens in completion area\")\n",
        "    print(f\"   • Uses decreasing timestep schedule (999→0)\")\n",
        "    print(f\"   • Model gradually denoises to produce coherent text\")\n",
        "\n",
        "else:\n",
        "    print(\"❌ ERROR: Required variables not found!\")\n",
        "    print(\"Please ensure model, tokenizer, and device are defined from previous cells.\")\n"
      ]
    },
    {
      "cell_type": "code",
      "execution_count": 7,
      "metadata": {
        "colab": {
          "base_uri": "https://localhost:8080/"
        },
        "id": "analysis",
        "outputId": "ac60c6c5-4a17-4177-85a7-72c6d4d6c4cc"
      },
      "outputs": [
        {
          "output_type": "stream",
          "name": "stdout",
          "text": [
            "🔍 Model Analysis:\n",
            "Total parameters: 26,465,361\n",
            "Trainable parameters: 26,465,361\n",
            "Model size: ~101.0 MB\n",
            "\n",
            "📐 Architecture:\n",
            "Embedding dimension: 256\n",
            "Number of layers: 4\n",
            "Number of attention heads: 8\n",
            "Vocabulary size: 50,257\n",
            "Max sequence length: 64\n",
            "\n",
            "🔄 Testing Invertibility (Conceptual - full inverse not implemented for demo):\n",
            "Input shape: torch.Size([2, 10, 64])\n",
            "Output shape: torch.Size([2, 10, 64])\n",
            "✅ Forward pass of InvertibleResidual successful\n",
            "L2 difference (InvertibleResidual): 0.0000\n",
            "⚠️ Near-identity transformation by InvertibleResidual\n",
            "\n",
            "🎉 Analysis complete! Your bijective diffusion model is ready!\n",
            "\n",
            "💡 Key Innovation: This model uses invertible transformations\n",
            "   to enable exact likelihood computation, a breakthrough in\n",
            "   discrete diffusion models for text generation!\n"
          ]
        }
      ],
      "source": [
        "# 📊 MODEL ANALYSIS\n",
        "\n",
        "def analyze_model(model):\n",
        "    total_params = sum(p.numel() for p in model.parameters())\n",
        "    trainable_params = sum(p.numel() for p in model.parameters() if p.requires_grad)\n",
        "\n",
        "    print(\"🔍 Model Analysis:\")\n",
        "    print(f\"Total parameters: {total_params:,}\")\n",
        "    print(f\"Trainable parameters: {trainable_params:,}\")\n",
        "    print(f\"Model size: ~{total_params * 4 / 1024**2:.1f} MB\")\n",
        "\n",
        "    # Architecture breakdown\n",
        "    print(\"\\n📐 Architecture:\")\n",
        "    print(f\"Embedding dimension: {model.config.embed_dim}\")\n",
        "    print(f\"Number of layers: {model.config.num_layers}\")\n",
        "    print(f\"Number of attention heads: {model.config.num_heads}\")\n",
        "    print(f\"Vocabulary size: {model.config.vocab_size:,}\")\n",
        "    print(f\"Max sequence length: {model.config.max_seq_length}\")\n",
        "\n",
        "# Test invertibility\n",
        "def test_invertibility():\n",
        "    print(\"\\n🔄 Testing Invertibility (Conceptual - full inverse not implemented for demo):\")\n",
        "\n",
        "    # Test coupling function (core invertible part)\n",
        "    test_dim = 64\n",
        "    invertible_layer = InvertibleResidual(test_dim)\n",
        "\n",
        "    # Random input\n",
        "    x = torch.randn(2, 10, test_dim).to(device) # Ensure on correct device\n",
        "    invertible_layer.to(device) # Ensure layer is on correct device\n",
        "    y = invertible_layer(x)\n",
        "\n",
        "    print(f\"Input shape: {x.shape}\")\n",
        "    print(f\"Output shape: {y.shape}\")\n",
        "    print(f\"✅ Forward pass of InvertibleResidual successful\")\n",
        "\n",
        "    # Check if transformation is meaningful\n",
        "    diff = torch.norm(y - x).item()\n",
        "    print(f\"L2 difference (InvertibleResidual): {diff:.4f}\")\n",
        "\n",
        "    if diff > 1e-6:\n",
        "        print(\"✅ Non-trivial transformation by InvertibleResidual\")\n",
        "    else:\n",
        "        print(\"⚠️ Near-identity transformation by InvertibleResidual\")\n",
        "\n",
        "analyze_model(model)\n",
        "test_invertibility()\n",
        "\n",
        "print(\"\\n🎉 Analysis complete! Your bijective diffusion model is ready!\")\n",
        "print(\"\\n💡 Key Innovation: This model uses invertible transformations\")\n",
        "print(\"   to enable exact likelihood computation, a breakthrough in\")\n",
        "print(\"   discrete diffusion models for text generation!\")"
      ]
    },
    {
      "cell_type": "code",
      "execution_count": 8,
      "metadata": {
        "colab": {
          "base_uri": "https://localhost:8080/"
        },
        "id": "LtuRH91uKmLc",
        "outputId": "488cddd7-ca09-4fa8-8056-2f6727066480"
      },
      "outputs": [
        {
          "output_type": "stream",
          "name": "stdout",
          "text": [
            "🔧 Configuring Standard Transformer Model...\n"
          ]
        },
        {
          "output_type": "stream",
          "name": "stderr",
          "text": [
            "/usr/local/lib/python3.11/dist-packages/torch/nn/modules/transformer.py:385: UserWarning: enable_nested_tensor is True, but self.use_nested_tensor is False because encoder_layer.norm_first was True\n",
            "  warnings.warn(\n"
          ]
        },
        {
          "output_type": "stream",
          "name": "stdout",
          "text": [
            "Standard Transformer Model configured for 'LARGE' equivalent size.\n",
            "Standard Model parameters: 28,940,881\n",
            "🏋️ Starting Standard Transformer Model training for 100 epochs...\n"
          ]
        },
        {
          "output_type": "stream",
          "name": "stderr",
          "text": [
            "Std.Model Epoch 1/100: 100%|██████████| 2941/2941 [00:53<00:00, 54.91it/s, loss=6.8919]\n"
          ]
        },
        {
          "output_type": "stream",
          "name": "stdout",
          "text": [
            "Standard Model Epoch 1/100 average loss: 6.4625\n"
          ]
        },
        {
          "output_type": "stream",
          "name": "stderr",
          "text": [
            "Std.Model Epoch 2/100: 100%|██████████| 2941/2941 [00:53<00:00, 55.06it/s, loss=5.3186]\n"
          ]
        },
        {
          "output_type": "stream",
          "name": "stdout",
          "text": [
            "Standard Model Epoch 2/100 average loss: 5.4859\n"
          ]
        },
        {
          "output_type": "stream",
          "name": "stderr",
          "text": [
            "Std.Model Epoch 3/100: 100%|██████████| 2941/2941 [00:53<00:00, 54.93it/s, loss=4.2901]\n"
          ]
        },
        {
          "output_type": "stream",
          "name": "stdout",
          "text": [
            "Standard Model Epoch 3/100 average loss: 5.0418\n"
          ]
        },
        {
          "output_type": "stream",
          "name": "stderr",
          "text": [
            "Std.Model Epoch 4/100: 100%|██████████| 2941/2941 [00:53<00:00, 54.95it/s, loss=4.6105]\n"
          ]
        },
        {
          "output_type": "stream",
          "name": "stdout",
          "text": [
            "Standard Model Epoch 4/100 average loss: 4.7255\n"
          ]
        },
        {
          "output_type": "stream",
          "name": "stderr",
          "text": [
            "Std.Model Epoch 5/100: 100%|██████████| 2941/2941 [00:53<00:00, 54.85it/s, loss=4.5714]\n"
          ]
        },
        {
          "output_type": "stream",
          "name": "stdout",
          "text": [
            "Standard Model Epoch 5/100 average loss: 4.4771\n"
          ]
        },
        {
          "output_type": "stream",
          "name": "stderr",
          "text": [
            "Std.Model Epoch 6/100: 100%|██████████| 2941/2941 [00:53<00:00, 55.07it/s, loss=4.7244]\n"
          ]
        },
        {
          "output_type": "stream",
          "name": "stdout",
          "text": [
            "Standard Model Epoch 6/100 average loss: 4.2694\n"
          ]
        },
        {
          "output_type": "stream",
          "name": "stderr",
          "text": [
            "Std.Model Epoch 7/100: 100%|██████████| 2941/2941 [00:53<00:00, 54.83it/s, loss=4.5599]\n"
          ]
        },
        {
          "output_type": "stream",
          "name": "stdout",
          "text": [
            "Standard Model Epoch 7/100 average loss: 4.0919\n"
          ]
        },
        {
          "output_type": "stream",
          "name": "stderr",
          "text": [
            "Std.Model Epoch 8/100: 100%|██████████| 2941/2941 [00:53<00:00, 54.89it/s, loss=3.9355]\n"
          ]
        },
        {
          "output_type": "stream",
          "name": "stdout",
          "text": [
            "Standard Model Epoch 8/100 average loss: 3.9294\n"
          ]
        },
        {
          "output_type": "stream",
          "name": "stderr",
          "text": [
            "Std.Model Epoch 9/100: 100%|██████████| 2941/2941 [00:53<00:00, 54.83it/s, loss=3.7022]\n"
          ]
        },
        {
          "output_type": "stream",
          "name": "stdout",
          "text": [
            "Standard Model Epoch 9/100 average loss: 3.7841\n"
          ]
        },
        {
          "output_type": "stream",
          "name": "stderr",
          "text": [
            "Std.Model Epoch 10/100: 100%|██████████| 2941/2941 [00:53<00:00, 54.92it/s, loss=3.7305]\n"
          ]
        },
        {
          "output_type": "stream",
          "name": "stdout",
          "text": [
            "Standard Model Epoch 10/100 average loss: 3.6434\n"
          ]
        },
        {
          "output_type": "stream",
          "name": "stderr",
          "text": [
            "Std.Model Epoch 11/100: 100%|██████████| 2941/2941 [00:53<00:00, 54.98it/s, loss=3.9291]\n"
          ]
        },
        {
          "output_type": "stream",
          "name": "stdout",
          "text": [
            "Standard Model Epoch 11/100 average loss: 3.5144\n"
          ]
        },
        {
          "output_type": "stream",
          "name": "stderr",
          "text": [
            "Std.Model Epoch 12/100: 100%|██████████| 2941/2941 [00:53<00:00, 55.08it/s, loss=3.9237]\n"
          ]
        },
        {
          "output_type": "stream",
          "name": "stdout",
          "text": [
            "Standard Model Epoch 12/100 average loss: 3.3945\n"
          ]
        },
        {
          "output_type": "stream",
          "name": "stderr",
          "text": [
            "Std.Model Epoch 13/100: 100%|██████████| 2941/2941 [00:53<00:00, 55.00it/s, loss=3.7027]\n"
          ]
        },
        {
          "output_type": "stream",
          "name": "stdout",
          "text": [
            "Standard Model Epoch 13/100 average loss: 3.2784\n"
          ]
        },
        {
          "output_type": "stream",
          "name": "stderr",
          "text": [
            "Std.Model Epoch 14/100: 100%|██████████| 2941/2941 [00:53<00:00, 55.14it/s, loss=2.9869]\n"
          ]
        },
        {
          "output_type": "stream",
          "name": "stdout",
          "text": [
            "Standard Model Epoch 14/100 average loss: 3.1692\n"
          ]
        },
        {
          "output_type": "stream",
          "name": "stderr",
          "text": [
            "Std.Model Epoch 15/100: 100%|██████████| 2941/2941 [00:53<00:00, 54.77it/s, loss=3.2718]\n"
          ]
        },
        {
          "output_type": "stream",
          "name": "stdout",
          "text": [
            "Standard Model Epoch 15/100 average loss: 3.0719\n"
          ]
        },
        {
          "output_type": "stream",
          "name": "stderr",
          "text": [
            "Std.Model Epoch 16/100: 100%|██████████| 2941/2941 [00:53<00:00, 54.78it/s, loss=2.6454]\n"
          ]
        },
        {
          "output_type": "stream",
          "name": "stdout",
          "text": [
            "Standard Model Epoch 16/100 average loss: 2.9710\n"
          ]
        },
        {
          "output_type": "stream",
          "name": "stderr",
          "text": [
            "Std.Model Epoch 17/100: 100%|██████████| 2941/2941 [00:53<00:00, 54.89it/s, loss=2.9425]\n"
          ]
        },
        {
          "output_type": "stream",
          "name": "stdout",
          "text": [
            "Standard Model Epoch 17/100 average loss: 2.8763\n"
          ]
        },
        {
          "output_type": "stream",
          "name": "stderr",
          "text": [
            "Std.Model Epoch 18/100: 100%|██████████| 2941/2941 [00:53<00:00, 54.92it/s, loss=2.9610]\n"
          ]
        },
        {
          "output_type": "stream",
          "name": "stdout",
          "text": [
            "Standard Model Epoch 18/100 average loss: 2.7850\n"
          ]
        },
        {
          "output_type": "stream",
          "name": "stderr",
          "text": [
            "Std.Model Epoch 19/100: 100%|██████████| 2941/2941 [00:53<00:00, 54.92it/s, loss=2.8261]\n"
          ]
        },
        {
          "output_type": "stream",
          "name": "stdout",
          "text": [
            "Standard Model Epoch 19/100 average loss: 2.7012\n"
          ]
        },
        {
          "output_type": "stream",
          "name": "stderr",
          "text": [
            "Std.Model Epoch 20/100: 100%|██████████| 2941/2941 [00:53<00:00, 54.89it/s, loss=2.8683]\n"
          ]
        },
        {
          "output_type": "stream",
          "name": "stdout",
          "text": [
            "Standard Model Epoch 20/100 average loss: 2.6215\n"
          ]
        },
        {
          "output_type": "stream",
          "name": "stderr",
          "text": [
            "Std.Model Epoch 21/100: 100%|██████████| 2941/2941 [00:53<00:00, 54.64it/s, loss=2.2431]\n"
          ]
        },
        {
          "output_type": "stream",
          "name": "stdout",
          "text": [
            "Standard Model Epoch 21/100 average loss: 2.5484\n"
          ]
        },
        {
          "output_type": "stream",
          "name": "stderr",
          "text": [
            "Std.Model Epoch 22/100: 100%|██████████| 2941/2941 [00:53<00:00, 54.96it/s, loss=2.5928]\n"
          ]
        },
        {
          "output_type": "stream",
          "name": "stdout",
          "text": [
            "Standard Model Epoch 22/100 average loss: 2.4752\n"
          ]
        },
        {
          "output_type": "stream",
          "name": "stderr",
          "text": [
            "Std.Model Epoch 23/100: 100%|██████████| 2941/2941 [00:53<00:00, 54.84it/s, loss=2.6545]\n"
          ]
        },
        {
          "output_type": "stream",
          "name": "stdout",
          "text": [
            "Standard Model Epoch 23/100 average loss: 2.4058\n"
          ]
        },
        {
          "output_type": "stream",
          "name": "stderr",
          "text": [
            "Std.Model Epoch 24/100: 100%|██████████| 2941/2941 [00:53<00:00, 54.85it/s, loss=2.3715]\n"
          ]
        },
        {
          "output_type": "stream",
          "name": "stdout",
          "text": [
            "Standard Model Epoch 24/100 average loss: 2.3398\n"
          ]
        },
        {
          "output_type": "stream",
          "name": "stderr",
          "text": [
            "Std.Model Epoch 25/100: 100%|██████████| 2941/2941 [00:53<00:00, 55.06it/s, loss=2.3665]\n"
          ]
        },
        {
          "output_type": "stream",
          "name": "stdout",
          "text": [
            "Standard Model Epoch 25/100 average loss: 2.2777\n"
          ]
        },
        {
          "output_type": "stream",
          "name": "stderr",
          "text": [
            "Std.Model Epoch 26/100: 100%|██████████| 2941/2941 [00:53<00:00, 55.01it/s, loss=2.4660]\n"
          ]
        },
        {
          "output_type": "stream",
          "name": "stdout",
          "text": [
            "Standard Model Epoch 26/100 average loss: 2.2182\n"
          ]
        },
        {
          "output_type": "stream",
          "name": "stderr",
          "text": [
            "Std.Model Epoch 27/100: 100%|██████████| 2941/2941 [00:53<00:00, 54.58it/s, loss=2.4938]\n"
          ]
        },
        {
          "output_type": "stream",
          "name": "stdout",
          "text": [
            "Standard Model Epoch 27/100 average loss: 2.1622\n"
          ]
        },
        {
          "output_type": "stream",
          "name": "stderr",
          "text": [
            "Std.Model Epoch 28/100: 100%|██████████| 2941/2941 [00:53<00:00, 54.67it/s, loss=2.0118]\n"
          ]
        },
        {
          "output_type": "stream",
          "name": "stdout",
          "text": [
            "Standard Model Epoch 28/100 average loss: 2.1078\n"
          ]
        },
        {
          "output_type": "stream",
          "name": "stderr",
          "text": [
            "Std.Model Epoch 29/100: 100%|██████████| 2941/2941 [00:53<00:00, 54.83it/s, loss=2.1119]\n"
          ]
        },
        {
          "output_type": "stream",
          "name": "stdout",
          "text": [
            "Standard Model Epoch 29/100 average loss: 2.0610\n"
          ]
        },
        {
          "output_type": "stream",
          "name": "stderr",
          "text": [
            "Std.Model Epoch 30/100: 100%|██████████| 2941/2941 [00:53<00:00, 54.81it/s, loss=2.0264]\n"
          ]
        },
        {
          "output_type": "stream",
          "name": "stdout",
          "text": [
            "Standard Model Epoch 30/100 average loss: 2.0067\n"
          ]
        },
        {
          "output_type": "stream",
          "name": "stderr",
          "text": [
            "Std.Model Epoch 31/100: 100%|██████████| 2941/2941 [00:53<00:00, 55.08it/s, loss=2.0559]\n"
          ]
        },
        {
          "output_type": "stream",
          "name": "stdout",
          "text": [
            "Standard Model Epoch 31/100 average loss: 1.9627\n"
          ]
        },
        {
          "output_type": "stream",
          "name": "stderr",
          "text": [
            "Std.Model Epoch 32/100: 100%|██████████| 2941/2941 [00:53<00:00, 54.67it/s, loss=1.9182]\n"
          ]
        },
        {
          "output_type": "stream",
          "name": "stdout",
          "text": [
            "Standard Model Epoch 32/100 average loss: 1.9196\n"
          ]
        },
        {
          "output_type": "stream",
          "name": "stderr",
          "text": [
            "Std.Model Epoch 33/100: 100%|██████████| 2941/2941 [00:53<00:00, 54.68it/s, loss=1.6690]\n"
          ]
        },
        {
          "output_type": "stream",
          "name": "stdout",
          "text": [
            "Standard Model Epoch 33/100 average loss: 1.8803\n"
          ]
        },
        {
          "output_type": "stream",
          "name": "stderr",
          "text": [
            "Std.Model Epoch 34/100: 100%|██████████| 2941/2941 [00:53<00:00, 54.85it/s, loss=1.9819]\n"
          ]
        },
        {
          "output_type": "stream",
          "name": "stdout",
          "text": [
            "Standard Model Epoch 34/100 average loss: 1.8374\n"
          ]
        },
        {
          "output_type": "stream",
          "name": "stderr",
          "text": [
            "Std.Model Epoch 35/100: 100%|██████████| 2941/2941 [00:53<00:00, 55.14it/s, loss=1.6885]\n"
          ]
        },
        {
          "output_type": "stream",
          "name": "stdout",
          "text": [
            "Standard Model Epoch 35/100 average loss: 1.8002\n"
          ]
        },
        {
          "output_type": "stream",
          "name": "stderr",
          "text": [
            "Std.Model Epoch 36/100: 100%|██████████| 2941/2941 [00:53<00:00, 55.06it/s, loss=2.0135]\n"
          ]
        },
        {
          "output_type": "stream",
          "name": "stdout",
          "text": [
            "Standard Model Epoch 36/100 average loss: 1.7648\n"
          ]
        },
        {
          "output_type": "stream",
          "name": "stderr",
          "text": [
            "Std.Model Epoch 37/100: 100%|██████████| 2941/2941 [00:53<00:00, 54.82it/s, loss=2.0154]\n"
          ]
        },
        {
          "output_type": "stream",
          "name": "stdout",
          "text": [
            "Standard Model Epoch 37/100 average loss: 1.7265\n"
          ]
        },
        {
          "output_type": "stream",
          "name": "stderr",
          "text": [
            "Std.Model Epoch 38/100: 100%|██████████| 2941/2941 [00:53<00:00, 54.83it/s, loss=1.7444]\n"
          ]
        },
        {
          "output_type": "stream",
          "name": "stdout",
          "text": [
            "Standard Model Epoch 38/100 average loss: 1.6924\n"
          ]
        },
        {
          "output_type": "stream",
          "name": "stderr",
          "text": [
            "Std.Model Epoch 39/100: 100%|██████████| 2941/2941 [00:53<00:00, 54.68it/s, loss=1.9589]\n"
          ]
        },
        {
          "output_type": "stream",
          "name": "stdout",
          "text": [
            "Standard Model Epoch 39/100 average loss: 1.6620\n"
          ]
        },
        {
          "output_type": "stream",
          "name": "stderr",
          "text": [
            "Std.Model Epoch 40/100: 100%|██████████| 2941/2941 [00:53<00:00, 54.90it/s, loss=1.5247]\n"
          ]
        },
        {
          "output_type": "stream",
          "name": "stdout",
          "text": [
            "Standard Model Epoch 40/100 average loss: 1.6297\n"
          ]
        },
        {
          "output_type": "stream",
          "name": "stderr",
          "text": [
            "Std.Model Epoch 41/100: 100%|██████████| 2941/2941 [00:53<00:00, 54.78it/s, loss=1.6664]\n"
          ]
        },
        {
          "output_type": "stream",
          "name": "stdout",
          "text": [
            "Standard Model Epoch 41/100 average loss: 1.6015\n"
          ]
        },
        {
          "output_type": "stream",
          "name": "stderr",
          "text": [
            "Std.Model Epoch 42/100: 100%|██████████| 2941/2941 [00:53<00:00, 54.87it/s, loss=2.0660]\n"
          ]
        },
        {
          "output_type": "stream",
          "name": "stdout",
          "text": [
            "Standard Model Epoch 42/100 average loss: 1.5722\n"
          ]
        },
        {
          "output_type": "stream",
          "name": "stderr",
          "text": [
            "Std.Model Epoch 43/100: 100%|██████████| 2941/2941 [00:53<00:00, 54.60it/s, loss=1.5164]\n"
          ]
        },
        {
          "output_type": "stream",
          "name": "stdout",
          "text": [
            "Standard Model Epoch 43/100 average loss: 1.5444\n"
          ]
        },
        {
          "output_type": "stream",
          "name": "stderr",
          "text": [
            "Std.Model Epoch 44/100: 100%|██████████| 2941/2941 [00:53<00:00, 54.76it/s, loss=1.3476]\n"
          ]
        },
        {
          "output_type": "stream",
          "name": "stdout",
          "text": [
            "Standard Model Epoch 44/100 average loss: 1.5185\n"
          ]
        },
        {
          "output_type": "stream",
          "name": "stderr",
          "text": [
            "Std.Model Epoch 45/100: 100%|██████████| 2941/2941 [00:53<00:00, 54.87it/s, loss=1.5994]\n"
          ]
        },
        {
          "output_type": "stream",
          "name": "stdout",
          "text": [
            "Standard Model Epoch 45/100 average loss: 1.4943\n"
          ]
        },
        {
          "output_type": "stream",
          "name": "stderr",
          "text": [
            "Std.Model Epoch 46/100: 100%|██████████| 2941/2941 [00:53<00:00, 54.64it/s, loss=1.3565]\n"
          ]
        },
        {
          "output_type": "stream",
          "name": "stdout",
          "text": [
            "Standard Model Epoch 46/100 average loss: 1.4659\n"
          ]
        },
        {
          "output_type": "stream",
          "name": "stderr",
          "text": [
            "Std.Model Epoch 47/100: 100%|██████████| 2941/2941 [00:53<00:00, 54.72it/s, loss=1.6693]\n"
          ]
        },
        {
          "output_type": "stream",
          "name": "stdout",
          "text": [
            "Standard Model Epoch 47/100 average loss: 1.4453\n"
          ]
        },
        {
          "output_type": "stream",
          "name": "stderr",
          "text": [
            "Std.Model Epoch 48/100: 100%|██████████| 2941/2941 [00:53<00:00, 54.75it/s, loss=1.8656]\n"
          ]
        },
        {
          "output_type": "stream",
          "name": "stdout",
          "text": [
            "Standard Model Epoch 48/100 average loss: 1.4213\n"
          ]
        },
        {
          "output_type": "stream",
          "name": "stderr",
          "text": [
            "Std.Model Epoch 49/100: 100%|██████████| 2941/2941 [00:53<00:00, 54.75it/s, loss=1.5444]\n"
          ]
        },
        {
          "output_type": "stream",
          "name": "stdout",
          "text": [
            "Standard Model Epoch 49/100 average loss: 1.4002\n"
          ]
        },
        {
          "output_type": "stream",
          "name": "stderr",
          "text": [
            "Std.Model Epoch 50/100: 100%|██████████| 2941/2941 [00:53<00:00, 54.73it/s, loss=1.7337]\n"
          ]
        },
        {
          "output_type": "stream",
          "name": "stdout",
          "text": [
            "Standard Model Epoch 50/100 average loss: 1.3789\n"
          ]
        },
        {
          "output_type": "stream",
          "name": "stderr",
          "text": [
            "Std.Model Epoch 51/100: 100%|██████████| 2941/2941 [00:53<00:00, 54.71it/s, loss=1.2645]\n"
          ]
        },
        {
          "output_type": "stream",
          "name": "stdout",
          "text": [
            "Standard Model Epoch 51/100 average loss: 1.3576\n"
          ]
        },
        {
          "output_type": "stream",
          "name": "stderr",
          "text": [
            "Std.Model Epoch 52/100: 100%|██████████| 2941/2941 [00:53<00:00, 54.77it/s, loss=1.4834]\n"
          ]
        },
        {
          "output_type": "stream",
          "name": "stdout",
          "text": [
            "Standard Model Epoch 52/100 average loss: 1.3394\n"
          ]
        },
        {
          "output_type": "stream",
          "name": "stderr",
          "text": [
            "Std.Model Epoch 53/100: 100%|██████████| 2941/2941 [00:53<00:00, 54.78it/s, loss=1.3400]\n"
          ]
        },
        {
          "output_type": "stream",
          "name": "stdout",
          "text": [
            "Standard Model Epoch 53/100 average loss: 1.3187\n"
          ]
        },
        {
          "output_type": "stream",
          "name": "stderr",
          "text": [
            "Std.Model Epoch 54/100: 100%|██████████| 2941/2941 [00:53<00:00, 54.84it/s, loss=1.2437]\n"
          ]
        },
        {
          "output_type": "stream",
          "name": "stdout",
          "text": [
            "Standard Model Epoch 54/100 average loss: 1.3018\n"
          ]
        },
        {
          "output_type": "stream",
          "name": "stderr",
          "text": [
            "Std.Model Epoch 55/100: 100%|██████████| 2941/2941 [00:53<00:00, 54.75it/s, loss=1.4465]\n"
          ]
        },
        {
          "output_type": "stream",
          "name": "stdout",
          "text": [
            "Standard Model Epoch 55/100 average loss: 1.2854\n"
          ]
        },
        {
          "output_type": "stream",
          "name": "stderr",
          "text": [
            "Std.Model Epoch 56/100: 100%|██████████| 2941/2941 [00:53<00:00, 54.74it/s, loss=1.1328]\n"
          ]
        },
        {
          "output_type": "stream",
          "name": "stdout",
          "text": [
            "Standard Model Epoch 56/100 average loss: 1.2660\n"
          ]
        },
        {
          "output_type": "stream",
          "name": "stderr",
          "text": [
            "Std.Model Epoch 57/100: 100%|██████████| 2941/2941 [00:53<00:00, 54.69it/s, loss=1.0914]\n"
          ]
        },
        {
          "output_type": "stream",
          "name": "stdout",
          "text": [
            "Standard Model Epoch 57/100 average loss: 1.2511\n"
          ]
        },
        {
          "output_type": "stream",
          "name": "stderr",
          "text": [
            "Std.Model Epoch 58/100: 100%|██████████| 2941/2941 [00:53<00:00, 54.92it/s, loss=1.3821]\n"
          ]
        },
        {
          "output_type": "stream",
          "name": "stdout",
          "text": [
            "Standard Model Epoch 58/100 average loss: 1.2351\n"
          ]
        },
        {
          "output_type": "stream",
          "name": "stderr",
          "text": [
            "Std.Model Epoch 59/100: 100%|██████████| 2941/2941 [00:53<00:00, 54.81it/s, loss=1.3214]\n"
          ]
        },
        {
          "output_type": "stream",
          "name": "stdout",
          "text": [
            "Standard Model Epoch 59/100 average loss: 1.2190\n"
          ]
        },
        {
          "output_type": "stream",
          "name": "stderr",
          "text": [
            "Std.Model Epoch 60/100: 100%|██████████| 2941/2941 [00:53<00:00, 54.76it/s, loss=1.0125]\n"
          ]
        },
        {
          "output_type": "stream",
          "name": "stdout",
          "text": [
            "Standard Model Epoch 60/100 average loss: 1.2034\n"
          ]
        },
        {
          "output_type": "stream",
          "name": "stderr",
          "text": [
            "Std.Model Epoch 61/100: 100%|██████████| 2941/2941 [00:53<00:00, 54.85it/s, loss=1.2685]\n"
          ]
        },
        {
          "output_type": "stream",
          "name": "stdout",
          "text": [
            "Standard Model Epoch 61/100 average loss: 1.1889\n"
          ]
        },
        {
          "output_type": "stream",
          "name": "stderr",
          "text": [
            "Std.Model Epoch 62/100: 100%|██████████| 2941/2941 [00:53<00:00, 54.71it/s, loss=1.6257]\n"
          ]
        },
        {
          "output_type": "stream",
          "name": "stdout",
          "text": [
            "Standard Model Epoch 62/100 average loss: 1.1738\n"
          ]
        },
        {
          "output_type": "stream",
          "name": "stderr",
          "text": [
            "Std.Model Epoch 63/100: 100%|██████████| 2941/2941 [00:53<00:00, 54.77it/s, loss=1.1201]\n"
          ]
        },
        {
          "output_type": "stream",
          "name": "stdout",
          "text": [
            "Standard Model Epoch 63/100 average loss: 1.1593\n"
          ]
        },
        {
          "output_type": "stream",
          "name": "stderr",
          "text": [
            "Std.Model Epoch 64/100: 100%|██████████| 2941/2941 [00:53<00:00, 54.76it/s, loss=1.4228]\n"
          ]
        },
        {
          "output_type": "stream",
          "name": "stdout",
          "text": [
            "Standard Model Epoch 64/100 average loss: 1.1473\n"
          ]
        },
        {
          "output_type": "stream",
          "name": "stderr",
          "text": [
            "Std.Model Epoch 65/100: 100%|██████████| 2941/2941 [00:53<00:00, 54.70it/s, loss=1.5547]\n"
          ]
        },
        {
          "output_type": "stream",
          "name": "stdout",
          "text": [
            "Standard Model Epoch 65/100 average loss: 1.1336\n"
          ]
        },
        {
          "output_type": "stream",
          "name": "stderr",
          "text": [
            "Std.Model Epoch 66/100: 100%|██████████| 2941/2941 [00:53<00:00, 54.83it/s, loss=1.1469]\n"
          ]
        },
        {
          "output_type": "stream",
          "name": "stdout",
          "text": [
            "Standard Model Epoch 66/100 average loss: 1.1212\n"
          ]
        },
        {
          "output_type": "stream",
          "name": "stderr",
          "text": [
            "Std.Model Epoch 67/100: 100%|██████████| 2941/2941 [00:53<00:00, 54.81it/s, loss=1.1415]\n"
          ]
        },
        {
          "output_type": "stream",
          "name": "stdout",
          "text": [
            "Standard Model Epoch 67/100 average loss: 1.1083\n"
          ]
        },
        {
          "output_type": "stream",
          "name": "stderr",
          "text": [
            "Std.Model Epoch 68/100: 100%|██████████| 2941/2941 [00:53<00:00, 54.75it/s, loss=1.1191]\n"
          ]
        },
        {
          "output_type": "stream",
          "name": "stdout",
          "text": [
            "Standard Model Epoch 68/100 average loss: 1.0977\n"
          ]
        },
        {
          "output_type": "stream",
          "name": "stderr",
          "text": [
            "Std.Model Epoch 69/100: 100%|██████████| 2941/2941 [00:53<00:00, 54.64it/s, loss=1.2202]\n"
          ]
        },
        {
          "output_type": "stream",
          "name": "stdout",
          "text": [
            "Standard Model Epoch 69/100 average loss: 1.0861\n"
          ]
        },
        {
          "output_type": "stream",
          "name": "stderr",
          "text": [
            "Std.Model Epoch 70/100: 100%|██████████| 2941/2941 [00:53<00:00, 54.81it/s, loss=1.1999]\n"
          ]
        },
        {
          "output_type": "stream",
          "name": "stdout",
          "text": [
            "Standard Model Epoch 70/100 average loss: 1.0736\n"
          ]
        },
        {
          "output_type": "stream",
          "name": "stderr",
          "text": [
            "Std.Model Epoch 71/100: 100%|██████████| 2941/2941 [00:53<00:00, 54.80it/s, loss=1.0624]\n"
          ]
        },
        {
          "output_type": "stream",
          "name": "stdout",
          "text": [
            "Standard Model Epoch 71/100 average loss: 1.0641\n"
          ]
        },
        {
          "output_type": "stream",
          "name": "stderr",
          "text": [
            "Std.Model Epoch 72/100: 100%|██████████| 2941/2941 [00:53<00:00, 54.91it/s, loss=1.0622]\n"
          ]
        },
        {
          "output_type": "stream",
          "name": "stdout",
          "text": [
            "Standard Model Epoch 72/100 average loss: 1.0558\n"
          ]
        },
        {
          "output_type": "stream",
          "name": "stderr",
          "text": [
            "Std.Model Epoch 73/100: 100%|██████████| 2941/2941 [00:53<00:00, 54.57it/s, loss=1.0485]\n"
          ]
        },
        {
          "output_type": "stream",
          "name": "stdout",
          "text": [
            "Standard Model Epoch 73/100 average loss: 1.0428\n"
          ]
        },
        {
          "output_type": "stream",
          "name": "stderr",
          "text": [
            "Std.Model Epoch 74/100: 100%|██████████| 2941/2941 [00:53<00:00, 54.59it/s, loss=1.2279]\n"
          ]
        },
        {
          "output_type": "stream",
          "name": "stdout",
          "text": [
            "Standard Model Epoch 74/100 average loss: 1.0343\n"
          ]
        },
        {
          "output_type": "stream",
          "name": "stderr",
          "text": [
            "Std.Model Epoch 75/100: 100%|██████████| 2941/2941 [00:53<00:00, 54.77it/s, loss=1.1377]\n"
          ]
        },
        {
          "output_type": "stream",
          "name": "stdout",
          "text": [
            "Standard Model Epoch 75/100 average loss: 1.0215\n"
          ]
        },
        {
          "output_type": "stream",
          "name": "stderr",
          "text": [
            "Std.Model Epoch 76/100: 100%|██████████| 2941/2941 [00:53<00:00, 54.78it/s, loss=1.0105]\n"
          ]
        },
        {
          "output_type": "stream",
          "name": "stdout",
          "text": [
            "Standard Model Epoch 76/100 average loss: 1.0138\n"
          ]
        },
        {
          "output_type": "stream",
          "name": "stderr",
          "text": [
            "Std.Model Epoch 77/100: 100%|██████████| 2941/2941 [00:53<00:00, 54.68it/s, loss=0.9826]\n"
          ]
        },
        {
          "output_type": "stream",
          "name": "stdout",
          "text": [
            "Standard Model Epoch 77/100 average loss: 1.0040\n"
          ]
        },
        {
          "output_type": "stream",
          "name": "stderr",
          "text": [
            "Std.Model Epoch 78/100: 100%|██████████| 2941/2941 [00:53<00:00, 54.73it/s, loss=0.8643]\n"
          ]
        },
        {
          "output_type": "stream",
          "name": "stdout",
          "text": [
            "Standard Model Epoch 78/100 average loss: 0.9969\n"
          ]
        },
        {
          "output_type": "stream",
          "name": "stderr",
          "text": [
            "Std.Model Epoch 79/100: 100%|██████████| 2941/2941 [00:53<00:00, 54.60it/s, loss=0.7718]\n"
          ]
        },
        {
          "output_type": "stream",
          "name": "stdout",
          "text": [
            "Standard Model Epoch 79/100 average loss: 0.9861\n"
          ]
        },
        {
          "output_type": "stream",
          "name": "stderr",
          "text": [
            "Std.Model Epoch 80/100: 100%|██████████| 2941/2941 [00:53<00:00, 54.54it/s, loss=0.8143]\n"
          ]
        },
        {
          "output_type": "stream",
          "name": "stdout",
          "text": [
            "Standard Model Epoch 80/100 average loss: 0.9768\n"
          ]
        },
        {
          "output_type": "stream",
          "name": "stderr",
          "text": [
            "Std.Model Epoch 81/100: 100%|██████████| 2941/2941 [00:53<00:00, 54.66it/s, loss=1.1543]\n"
          ]
        },
        {
          "output_type": "stream",
          "name": "stdout",
          "text": [
            "Standard Model Epoch 81/100 average loss: 0.9699\n"
          ]
        },
        {
          "output_type": "stream",
          "name": "stderr",
          "text": [
            "Std.Model Epoch 82/100: 100%|██████████| 2941/2941 [00:53<00:00, 54.79it/s, loss=1.0487]\n"
          ]
        },
        {
          "output_type": "stream",
          "name": "stdout",
          "text": [
            "Standard Model Epoch 82/100 average loss: 0.9627\n"
          ]
        },
        {
          "output_type": "stream",
          "name": "stderr",
          "text": [
            "Std.Model Epoch 83/100: 100%|██████████| 2941/2941 [00:53<00:00, 54.61it/s, loss=0.9513]\n"
          ]
        },
        {
          "output_type": "stream",
          "name": "stdout",
          "text": [
            "Standard Model Epoch 83/100 average loss: 0.9543\n"
          ]
        },
        {
          "output_type": "stream",
          "name": "stderr",
          "text": [
            "Std.Model Epoch 84/100: 100%|██████████| 2941/2941 [00:53<00:00, 54.82it/s, loss=0.8700]\n"
          ]
        },
        {
          "output_type": "stream",
          "name": "stdout",
          "text": [
            "Standard Model Epoch 84/100 average loss: 0.9451\n"
          ]
        },
        {
          "output_type": "stream",
          "name": "stderr",
          "text": [
            "Std.Model Epoch 85/100: 100%|██████████| 2941/2941 [00:53<00:00, 54.60it/s, loss=0.9177]\n"
          ]
        },
        {
          "output_type": "stream",
          "name": "stdout",
          "text": [
            "Standard Model Epoch 85/100 average loss: 0.9376\n"
          ]
        },
        {
          "output_type": "stream",
          "name": "stderr",
          "text": [
            "Std.Model Epoch 86/100: 100%|██████████| 2941/2941 [00:53<00:00, 54.65it/s, loss=1.0486]\n"
          ]
        },
        {
          "output_type": "stream",
          "name": "stdout",
          "text": [
            "Standard Model Epoch 86/100 average loss: 0.9308\n"
          ]
        },
        {
          "output_type": "stream",
          "name": "stderr",
          "text": [
            "Std.Model Epoch 87/100: 100%|██████████| 2941/2941 [00:53<00:00, 54.56it/s, loss=1.0478]\n"
          ]
        },
        {
          "output_type": "stream",
          "name": "stdout",
          "text": [
            "Standard Model Epoch 87/100 average loss: 0.9230\n"
          ]
        },
        {
          "output_type": "stream",
          "name": "stderr",
          "text": [
            "Std.Model Epoch 88/100: 100%|██████████| 2941/2941 [00:53<00:00, 54.65it/s, loss=1.1032]\n"
          ]
        },
        {
          "output_type": "stream",
          "name": "stdout",
          "text": [
            "Standard Model Epoch 88/100 average loss: 0.9167\n"
          ]
        },
        {
          "output_type": "stream",
          "name": "stderr",
          "text": [
            "Std.Model Epoch 89/100: 100%|██████████| 2941/2941 [00:53<00:00, 54.62it/s, loss=0.9809]\n"
          ]
        },
        {
          "output_type": "stream",
          "name": "stdout",
          "text": [
            "Standard Model Epoch 89/100 average loss: 0.9086\n"
          ]
        },
        {
          "output_type": "stream",
          "name": "stderr",
          "text": [
            "Std.Model Epoch 90/100: 100%|██████████| 2941/2941 [00:54<00:00, 54.44it/s, loss=1.0593]\n"
          ]
        },
        {
          "output_type": "stream",
          "name": "stdout",
          "text": [
            "Standard Model Epoch 90/100 average loss: 0.9008\n"
          ]
        },
        {
          "output_type": "stream",
          "name": "stderr",
          "text": [
            "Std.Model Epoch 91/100: 100%|██████████| 2941/2941 [00:53<00:00, 54.47it/s, loss=0.9676]\n"
          ]
        },
        {
          "output_type": "stream",
          "name": "stdout",
          "text": [
            "Standard Model Epoch 91/100 average loss: 0.8939\n"
          ]
        },
        {
          "output_type": "stream",
          "name": "stderr",
          "text": [
            "Std.Model Epoch 92/100: 100%|██████████| 2941/2941 [00:53<00:00, 54.53it/s, loss=0.9090]\n"
          ]
        },
        {
          "output_type": "stream",
          "name": "stdout",
          "text": [
            "Standard Model Epoch 92/100 average loss: 0.8912\n"
          ]
        },
        {
          "output_type": "stream",
          "name": "stderr",
          "text": [
            "Std.Model Epoch 93/100: 100%|██████████| 2941/2941 [00:53<00:00, 54.57it/s, loss=0.9278]\n"
          ]
        },
        {
          "output_type": "stream",
          "name": "stdout",
          "text": [
            "Standard Model Epoch 93/100 average loss: 0.8838\n"
          ]
        },
        {
          "output_type": "stream",
          "name": "stderr",
          "text": [
            "Std.Model Epoch 94/100: 100%|██████████| 2941/2941 [00:53<00:00, 54.57it/s, loss=0.9146]\n"
          ]
        },
        {
          "output_type": "stream",
          "name": "stdout",
          "text": [
            "Standard Model Epoch 94/100 average loss: 0.8777\n"
          ]
        },
        {
          "output_type": "stream",
          "name": "stderr",
          "text": [
            "Std.Model Epoch 95/100: 100%|██████████| 2941/2941 [00:53<00:00, 54.60it/s, loss=0.9624]\n"
          ]
        },
        {
          "output_type": "stream",
          "name": "stdout",
          "text": [
            "Standard Model Epoch 95/100 average loss: 0.8709\n"
          ]
        },
        {
          "output_type": "stream",
          "name": "stderr",
          "text": [
            "Std.Model Epoch 96/100: 100%|██████████| 2941/2941 [00:54<00:00, 54.46it/s, loss=0.9133]\n"
          ]
        },
        {
          "output_type": "stream",
          "name": "stdout",
          "text": [
            "Standard Model Epoch 96/100 average loss: 0.8672\n"
          ]
        },
        {
          "output_type": "stream",
          "name": "stderr",
          "text": [
            "Std.Model Epoch 97/100: 100%|██████████| 2941/2941 [00:53<00:00, 54.65it/s, loss=0.8738]\n"
          ]
        },
        {
          "output_type": "stream",
          "name": "stdout",
          "text": [
            "Standard Model Epoch 97/100 average loss: 0.8558\n"
          ]
        },
        {
          "output_type": "stream",
          "name": "stderr",
          "text": [
            "Std.Model Epoch 98/100: 100%|██████████| 2941/2941 [00:53<00:00, 54.52it/s, loss=0.8854]\n"
          ]
        },
        {
          "output_type": "stream",
          "name": "stdout",
          "text": [
            "Standard Model Epoch 98/100 average loss: 0.8525\n"
          ]
        },
        {
          "output_type": "stream",
          "name": "stderr",
          "text": [
            "Std.Model Epoch 99/100: 100%|██████████| 2941/2941 [00:53<00:00, 54.68it/s, loss=0.9880]\n"
          ]
        },
        {
          "output_type": "stream",
          "name": "stdout",
          "text": [
            "Standard Model Epoch 99/100 average loss: 0.8489\n"
          ]
        },
        {
          "output_type": "stream",
          "name": "stderr",
          "text": [
            "Std.Model Epoch 100/100: 100%|██████████| 2941/2941 [00:53<00:00, 54.67it/s, loss=1.0082]"
          ]
        },
        {
          "output_type": "stream",
          "name": "stdout",
          "text": [
            "Standard Model Epoch 100/100 average loss: 0.8426\n",
            "✅ Standard Transformer Model Training complete!\n",
            "Total batch losses stored in 'standard_model_losses': 294100\n"
          ]
        },
        {
          "output_type": "stream",
          "name": "stderr",
          "text": [
            "\n"
          ]
        }
      ],
      "source": [
        "# ⚖️ STANDARD TRANSFORMER MODEL FOR COMPARISON\n",
        "\n",
        "import math # For PositionalEncoding and embedding scaling\n",
        "from dataclasses import dataclass # For the configuration dataclass\n",
        "\n",
        "# Ensure global variables from previous cells are available:\n",
        "# tokenizer, config (bijective_config), device, train_loader, num_epochs, _selected_config_params\n",
        "\n",
        "# --- 1. Positional Encoding ---\n",
        "class PositionalEncoding(nn.Module):\n",
        "    def __init__(self, d_model: int, dropout: float = 0.1, max_len: int = 5000):\n",
        "        super().__init__()\n",
        "        self.dropout = nn.Dropout(p=dropout)\n",
        "\n",
        "        position = torch.arange(max_len).unsqueeze(1)\n",
        "        div_term = torch.exp(torch.arange(0, d_model, 2) * (-math.log(10000.0) / d_model))\n",
        "        pe = torch.zeros(1, max_len, d_model) # Shape (1, max_len, d_model) for batch_first\n",
        "        pe[0, :, 0::2] = torch.sin(position * div_term)\n",
        "        pe[0, :, 1::2] = torch.cos(position * div_term)\n",
        "        self.register_buffer('pe', pe)\n",
        "\n",
        "    def forward(self, x: torch.Tensor) -> torch.Tensor:\n",
        "        \"\"\"\n",
        "        Args:\n",
        "            x: Tensor, shape [batch_size, seq_len, embedding_dim]\n",
        "        \"\"\"\n",
        "        # Add positional encoding to the input tensor x\n",
        "        # self.pe is (1, max_len, d_model). We need to slice it to (1, seq_len, d_model)\n",
        "        x = x + self.pe[:, :x.size(1), :]\n",
        "        return self.dropout(x)\n",
        "\n",
        "# --- 2. Standard Transformer Configuration ---\n",
        "@dataclass\n",
        "class StandardTransformerConfig:\n",
        "    vocab_size: int\n",
        "    d_model: int\n",
        "    nhead: int\n",
        "    num_encoder_layers: int # Using TransformerEncoder, so \"encoder\" layers\n",
        "    dim_feedforward: int\n",
        "    max_seq_length: int\n",
        "    dropout: float = 0.1\n",
        "\n",
        "# --- 3. Standard Transformer Language Model ---\n",
        "class StandardTransformerLM(nn.Module):\n",
        "    def __init__(self, model_config: StandardTransformerConfig):\n",
        "        super().__init__()\n",
        "        self.config = model_config\n",
        "        self.token_embedding = nn.Embedding(model_config.vocab_size, model_config.d_model)\n",
        "        self.pos_encoder = PositionalEncoding(model_config.d_model, model_config.dropout, model_config.max_seq_length)\n",
        "\n",
        "        encoder_layer = nn.TransformerEncoderLayer(\n",
        "            d_model=model_config.d_model,\n",
        "            nhead=model_config.nhead,\n",
        "            dim_feedforward=model_config.dim_feedforward,\n",
        "            dropout=model_config.dropout,\n",
        "            batch_first=True,\n",
        "            norm_first=True # Often recommended for stability\n",
        "        )\n",
        "        self.transformer_encoder = nn.TransformerEncoder(\n",
        "            encoder_layer,\n",
        "            num_layers=model_config.num_encoder_layers\n",
        "        )\n",
        "        self.output_head = nn.Linear(model_config.d_model, model_config.vocab_size)\n",
        "\n",
        "        self._init_weights()\n",
        "\n",
        "    def _init_weights(self):\n",
        "        initrange = 0.1\n",
        "        self.token_embedding.weight.data.uniform_(-initrange, initrange)\n",
        "        self.output_head.bias.data.zero_()\n",
        "        self.output_head.weight.data.uniform_(-initrange, initrange)\n",
        "\n",
        "    def forward(self, src: torch.Tensor, src_padding_mask: Optional[torch.Tensor] = None) -> torch.Tensor:\n",
        "        # src: (batch_size, seq_len)\n",
        "        # src_padding_mask: (batch_size, seq_len), True for padded positions\n",
        "\n",
        "        src_emb = self.token_embedding(src) * math.sqrt(self.config.d_model) # Scale embedding\n",
        "        src_emb = self.pos_encoder(src_emb) # src_emb shape: (batch_size, seq_len, d_model)\n",
        "\n",
        "        # Create causal mask for autoregressive decoding\n",
        "        # Shape: (seq_len, seq_len)\n",
        "        causal_mask = nn.Transformer.generate_square_subsequent_mask(\n",
        "          src.size(1),\n",
        "          device=src.device,\n",
        "          dtype=torch.bool  # This will create a boolean mask\n",
        "        )\n",
        "\n",
        "\n",
        "        output = self.transformer_encoder(src_emb, mask=causal_mask, src_key_padding_mask=src_padding_mask)\n",
        "        logits = self.output_head(output)\n",
        "        return logits\n",
        "\n",
        "# --- 4. Configuration and Initialization ---\n",
        "print(\"🔧 Configuring Standard Transformer Model...\")\n",
        "\n",
        "# Use bijective_config (instance of Config for bijective model) and _selected_config_params\n",
        "# These should be available from the cell where the bijective model is configured/trained.\n",
        "# If 'config' is the variable name for the bijective model's Config instance:\n",
        "bijective_base_config = config # Assuming 'config' is the instantiated bijective Config object\n",
        "bijective_params = _selected_config_params # This holds embed_dim, num_layers, num_heads\n",
        "\n",
        "std_d_model = bijective_params[\"embed_dim\"]\n",
        "std_nhead = bijective_params[\"num_heads\"]\n",
        "std_num_layers = bijective_params[\"num_layers\"]\n",
        "std_dim_feedforward = std_d_model * 4 # Common practice\n",
        "\n",
        "std_lm_config = StandardTransformerConfig(\n",
        "    vocab_size=len(tokenizer), # tokenizer should be globally defined\n",
        "    d_model=std_d_model,\n",
        "    nhead=std_nhead,\n",
        "    num_encoder_layers=std_num_layers,\n",
        "    dim_feedforward=std_dim_feedforward,\n",
        "    max_seq_length=bijective_base_config.max_seq_length,\n",
        "    dropout=bijective_base_config.dropout\n",
        ")\n",
        "\n",
        "standard_model = StandardTransformerLM(std_lm_config).to(device) # device should be globally defined\n",
        "print(f\"Standard Transformer Model configured for '{SELECTED_MODEL_SIZE}' equivalent size.\")\n",
        "print(f\"Standard Model parameters: {sum(p.numel() for p in standard_model.parameters()):,}\")\n",
        "\n",
        "# --- 5. Training Setup ---\n",
        "std_optimizer = optim.AdamW(standard_model.parameters(), lr=1e-4) # Same LR as bijective\n",
        "standard_model_losses = []\n",
        "\n",
        "# num_epochs and train_loader should be globally defined from bijective model training setup\n",
        "\n",
        "print(f\"🏋️ Starting Standard Transformer Model training for {num_epochs} epochs...\")\n",
        "\n",
        "# --- 6. Training Loop ---\n",
        "standard_model.train()\n",
        "for epoch in range(num_epochs):\n",
        "    epoch_std_losses = []\n",
        "    pbar_std = tqdm(train_loader, desc=f\"Std.Model Epoch {epoch+1}/{num_epochs}\")\n",
        "\n",
        "    for batch in pbar_std:\n",
        "        input_ids = batch['input_ids'].to(device)\n",
        "        attention_mask = batch['attention_mask'].to(device) # (B, L), 1 for real, 0 for pad\n",
        "\n",
        "        # Prepare inputs and targets for autoregressive language modeling\n",
        "        # Input: sequence[:-1], Target: sequence[1:]\n",
        "        model_input_ids = input_ids[:, :-1].contiguous()\n",
        "        targets = input_ids[:, 1:].contiguous().view(-1) # Flatten targets for CrossEntropyLoss\n",
        "\n",
        "        # Create padding mask for the model input\n",
        "        # True for padded tokens, False for non-padded.\n",
        "        model_input_padding_mask = ~(attention_mask[:, :-1].bool())\n",
        "\n",
        "        std_optimizer.zero_grad()\n",
        "\n",
        "        logits = standard_model(model_input_ids, src_padding_mask=model_input_padding_mask)\n",
        "        # logits shape: (batch_size, seq_len-1, vocab_size)\n",
        "\n",
        "        # Flatten logits for CrossEntropyLoss: (batch_size * (seq_len-1), vocab_size)\n",
        "        loss = F.cross_entropy(logits.view(-1, std_lm_config.vocab_size), targets, ignore_index=tokenizer.pad_token_id)\n",
        "\n",
        "        loss.backward()\n",
        "        std_optimizer.step()\n",
        "\n",
        "        epoch_std_losses.append(loss.item())\n",
        "        pbar_std.set_postfix({'loss': f'{loss.item():.4f}'})\n",
        "\n",
        "    avg_epoch_std_loss = np.mean(epoch_std_losses)\n",
        "    standard_model_losses.extend(epoch_std_losses) # Store all batch losses\n",
        "    print(f\"Standard Model Epoch {epoch+1}/{num_epochs} average loss: {avg_epoch_std_loss:.4f}\")\n",
        "\n",
        "print(\"✅ Standard Transformer Model Training complete!\")\n",
        "print(f\"Total batch losses stored in 'standard_model_losses': {len(standard_model_losses)}\")\n"
      ]
    },
    {
      "cell_type": "code",
      "execution_count": 9,
      "metadata": {
        "colab": {
          "base_uri": "https://localhost:8080/"
        },
        "id": "v6jJVP3UemZy",
        "outputId": "681a787b-bfe2-4757-a669-7783b2489198"
      },
      "outputs": [
        {
          "output_type": "stream",
          "name": "stdout",
          "text": [
            "📊 Comparative Training Statistics\n",
            "===================================\n",
            "Bijective Model Trainable Parameters: 26,465,361\n",
            "Standard Model Trainable Parameters:  28,940,881\n",
            "\n",
            "--- Training Overview ---\n",
            "Number of Epochs Trained: 100\n",
            "\n",
            "Bijective Model:\n",
            "  Overall Average Batch Loss: 2.3179\n",
            "  Average Loss (Last Epoch):    2.0366\n",
            "\n",
            "Standard Model:\n",
            "  Overall Average Batch Loss: 1.8391\n",
            "  Average Loss (Last Epoch):    0.8426\n",
            "\n",
            "===================================\n"
          ]
        }
      ],
      "source": [
        "# 📊 COMPARATIVE TRAINING STATISTICS\n",
        "\n",
        "import numpy as np # For calculating means\n",
        "\n",
        "# Ensure the following variables are accessible from previous cells:\n",
        "# model (the trained bijective model instance)\n",
        "# standard_model (the trained standard transformer model instance)\n",
        "# losses (list of batch losses from bijective model training)\n",
        "# standard_model_losses (list of batch losses from standard model training)\n",
        "# train_loader (the DataLoader instance used for training)\n",
        "# num_epochs (the number of epochs both models were trained for)\n",
        "\n",
        "print(\"📊 Comparative Training Statistics\\n\" + \"=\"*35)\n",
        "\n",
        "# --- Parameter Counts ---\n",
        "if 'model' in globals() and model is not None:\n",
        "    bijective_model_params = sum(p.numel() for p in model.parameters() if p.requires_grad)\n",
        "    print(f\"Bijective Model Trainable Parameters: {bijective_model_params:,}\")\n",
        "else:\n",
        "    print(\"Bijective Model (or 'model' variable) not found or not trained.\")\n",
        "\n",
        "if 'standard_model' in globals() and standard_model is not None:\n",
        "    standard_model_params_val = sum(p.numel() for p in standard_model.parameters() if p.requires_grad)\n",
        "    print(f\"Standard Model Trainable Parameters:  {standard_model_params_val:,}\")\n",
        "else:\n",
        "    print(\"Standard Model (or 'standard_model' variable) not found or not trained.\")\n",
        "\n",
        "print(f\"\\n--- Training Overview ---\")\n",
        "print(f\"Number of Epochs Trained: {num_epochs if 'num_epochs' in globals() else 'N/A'}\")\n",
        "\n",
        "# --- Loss Statistics ---\n",
        "if 'losses' in globals() and losses:\n",
        "    overall_avg_bijective_loss = np.mean(losses)\n",
        "    print(f\"\\nBijective Model:\")\n",
        "    print(f\"  Overall Average Batch Loss: {overall_avg_bijective_loss:.4f}\")\n",
        "    if 'train_loader' in globals() and train_loader is not None and num_epochs > 0:\n",
        "        num_batches_per_epoch = len(train_loader)\n",
        "        if len(losses) >= num_batches_per_epoch:\n",
        "            last_epoch_bijective_losses = losses[-num_batches_per_epoch:]\n",
        "            avg_final_epoch_bijective_loss = np.mean(last_epoch_bijective_losses)\n",
        "            print(f\"  Average Loss (Last Epoch):    {avg_final_epoch_bijective_loss:.4f}\")\n",
        "        else:\n",
        "            print(\"  Not enough batch losses recorded for a full final epoch.\")\n",
        "    else:\n",
        "        print(\"  Could not calculate final epoch loss (train_loader or num_epochs missing).\")\n",
        "else:\n",
        "    print(\"\\nBijective Model: Loss data ('losses' variable) not found.\")\n",
        "\n",
        "if 'standard_model_losses' in globals() and standard_model_losses:\n",
        "    overall_avg_standard_loss = np.mean(standard_model_losses)\n",
        "    print(f\"\\nStandard Model:\")\n",
        "    print(f\"  Overall Average Batch Loss: {overall_avg_standard_loss:.4f}\")\n",
        "    if 'train_loader' in globals() and train_loader is not None and num_epochs > 0:\n",
        "        num_batches_per_epoch = len(train_loader)\n",
        "        if len(standard_model_losses) >= num_batches_per_epoch:\n",
        "            last_epoch_standard_losses = standard_model_losses[-num_batches_per_epoch:]\n",
        "            avg_final_epoch_standard_loss = np.mean(last_epoch_standard_losses)\n",
        "            print(f\"  Average Loss (Last Epoch):    {avg_final_epoch_standard_loss:.4f}\")\n",
        "        else:\n",
        "            print(\"  Not enough batch losses recorded for a full final epoch.\")\n",
        "    else:\n",
        "        print(\"  Could not calculate final epoch loss (train_loader or num_epochs missing).\")\n",
        "\n",
        "else:\n",
        "    print(\"\\nStandard Model: Loss data ('standard_model_losses' variable) not found.\")\n",
        "\n",
        "print(\"\\n\" + \"=\"*35)\n"
      ]
    },
    {
      "cell_type": "code",
      "execution_count": 10,
      "metadata": {
        "colab": {
          "base_uri": "https://localhost:8080/",
          "height": 714
        },
        "id": "u50MROpVkGhH",
        "outputId": "17c697eb-96e4-409e-ae62-e9be73bb8a93"
      },
      "outputs": [
        {
          "output_type": "stream",
          "name": "stdout",
          "text": [
            "📈 Plotting Training Losses...\n",
            "==============================\n"
          ]
        },
        {
          "output_type": "display_data",
          "data": {
            "text/plain": [
              "<Figure size 1200x700 with 1 Axes>"
            ],
            "image/png": "[encoded data removed]"
          },
          "metadata": {}
        },
        {
          "output_type": "stream",
          "name": "stdout",
          "text": [
            "\n",
            "==============================\n"
          ]
        }
      ],
      "source": [
        "# 📈 PLOTTING TRAINING LOSSES\n",
        "\n",
        "import matplotlib.pyplot as plt\n",
        "import numpy as np\n",
        "\n",
        "# Ensure the following variables are accessible from previous cells:\n",
        "# losses (list of batch losses from bijective model training)\n",
        "# standard_model_losses (list of batch losses from standard model training)\n",
        "# train_loader (the DataLoader instance used for training)\n",
        "# num_epochs (the number of epochs both models were trained for)\n",
        "\n",
        "print(\"📈 Plotting Training Losses...\\n\" + \"=\"*30)\n",
        "\n",
        "if ('losses' in globals() and losses and\n",
        "    'standard_model_losses' in globals() and standard_model_losses and\n",
        "    'train_loader' in globals() and train_loader is not None and\n",
        "    'num_epochs' in globals() and num_epochs > 0):\n",
        "\n",
        "    num_batches_per_epoch = len(train_loader)\n",
        "\n",
        "    # Calculate average loss per epoch for Bijective Model\n",
        "    if len(losses) >= num_batches_per_epoch * num_epochs:\n",
        "        bijective_epoch_avg_losses = [\n",
        "            np.mean(losses[i * num_batches_per_epoch : (i + 1) * num_batches_per_epoch])\n",
        "            for i in range(num_epochs)\n",
        "        ]\n",
        "    else:\n",
        "        print(\"Warning: Not enough batch data in 'losses' to calculate all epoch averages for Bijective Model. Plotting available data.\")\n",
        "        # Fallback or partial calculation if needed, for now just a warning\n",
        "        num_actual_bijective_epochs = len(losses) // num_batches_per_epoch\n",
        "        bijective_epoch_avg_losses = [\n",
        "            np.mean(losses[i * num_batches_per_epoch : (i + 1) * num_batches_per_epoch])\n",
        "            for i in range(num_actual_bijective_epochs)\n",
        "        ]\n",
        "\n",
        "\n",
        "    # Calculate average loss per epoch for Standard Model\n",
        "    if len(standard_model_losses) >= num_batches_per_epoch * num_epochs:\n",
        "        standard_epoch_avg_losses = [\n",
        "            np.mean(standard_model_losses[i * num_batches_per_epoch : (i + 1) * num_batches_per_epoch])\n",
        "            for i in range(num_epochs)\n",
        "        ]\n",
        "    else:\n",
        "        print(\"Warning: Not enough batch data in 'standard_model_losses' to calculate all epoch averages for Standard Model. Plotting available data.\")\n",
        "        num_actual_standard_epochs = len(standard_model_losses) // num_batches_per_epoch\n",
        "        standard_epoch_avg_losses = [\n",
        "            np.mean(standard_model_losses[i * num_batches_per_epoch : (i + 1) * num_batches_per_epoch])\n",
        "            for i in range(num_actual_standard_epochs)\n",
        "        ]\n",
        "\n",
        "    min_epochs_plotted = min(len(bijective_epoch_avg_losses), len(standard_epoch_avg_losses))\n",
        "    epochs_range = range(1, min_epochs_plotted + 1)\n",
        "\n",
        "\n",
        "    if min_epochs_plotted > 0:\n",
        "        plt.figure(figsize=(12, 7))\n",
        "        plt.plot(epochs_range, bijective_epoch_avg_losses[:min_epochs_plotted], marker='o', linestyle='-', label='Bijective Model Loss')\n",
        "        plt.plot(epochs_range, standard_epoch_avg_losses[:min_epochs_plotted], marker='x', linestyle='--', label='Standard Model Loss')\n",
        "\n",
        "        plt.title('Training Loss Comparison (Average per Epoch)')\n",
        "        plt.xlabel('Epoch')\n",
        "        plt.ylabel('Average Loss')\n",
        "        plt.legend()\n",
        "        plt.grid(True)\n",
        "        if min_epochs_plotted <= 20 : # Show all epoch ticks if not too many\n",
        "             plt.xticks(list(epochs_range))\n",
        "        else: # Otherwise, let matplotlib decide ticks or set specific interval\n",
        "             plt.xticks(np.arange(1, min_epochs_plotted + 1, step=max(1, min_epochs_plotted // 10)))\n",
        "\n",
        "\n",
        "        # Annotate final loss values\n",
        "        if bijective_epoch_avg_losses:\n",
        "            plt.text(epochs_range[-1], bijective_epoch_avg_losses[-1], f'{bijective_epoch_avg_losses[-1]:.4f}', va='bottom', ha='right')\n",
        "        if standard_epoch_avg_losses:\n",
        "            plt.text(epochs_range[-1], standard_epoch_avg_losses[-1], f'{standard_epoch_avg_losses[-1]:.4f}', va='top', ha='right')\n",
        "\n",
        "        plt.show()\n",
        "    else:\n",
        "        print(\"No epoch average data available to plot.\")\n",
        "\n",
        "else:\n",
        "    print(\"Could not plot: Required data (losses, standard_model_losses, train_loader, or num_epochs) not found or insufficient.\")\n",
        "\n",
        "print(\"\\n\" + \"=\"*30)\n"
      ]
    },
    {
      "cell_type": "code",
      "execution_count": 11,
      "metadata": {
        "colab": {
          "base_uri": "https://localhost:8080/",
          "height": 582
        },
        "id": "5d0ejgFOkL5u",
        "outputId": "6a638979-638f-48f2-da63-b78585662621"
      },
      "outputs": [
        {
          "output_type": "display_data",
          "data": {
            "text/plain": [
              "<Figure size 1000x600 with 1 Axes>"
            ],
            "image/png": "[encoded data removed]"
          },
          "metadata": {}
        },
        {
          "output_type": "stream",
          "name": "stdout",
          "text": [
            "Plotted 294100 batch loss values for the Standard Model.\n"
          ]
        }
      ],
      "source": [
        "# 📈 STANDARD MODEL - TRAINING LOSS CURVE (PER BATCH)\n",
        "\n",
        "import matplotlib.pyplot as plt\n",
        "import numpy as np # Used if you want to do any processing like moving averages, but not for direct plot\n",
        "\n",
        "# Ensure 'standard_model_losses' is accessible from the standard model's training cell\n",
        "if 'standard_model_losses' in globals() and standard_model_losses:\n",
        "    plt.figure(figsize=(10, 6))\n",
        "    plt.plot(standard_model_losses, label='Standard Model Batch Loss')\n",
        "    plt.title('Standard Model - Training Loss Over Steps (Batches)')\n",
        "    plt.xlabel('Training Step (Batch #)')\n",
        "    plt.ylabel('Loss')\n",
        "    plt.legend()\n",
        "    plt.grid(True)\n",
        "\n",
        "    # Optional: If the loss list is very long, you might want to smooth it\n",
        "    # For example, a simple moving average:\n",
        "    # window_size = 50\n",
        "    # if len(standard_model_losses) > window_size:\n",
        "    #     smoothed_losses = np.convolve(standard_model_losses, np.ones(window_size)/window_size, mode='valid')\n",
        "    #     plt.plot(np.arange(window_size-1, len(standard_model_losses)), smoothed_losses, label=f'Smoothed (window {window_size})', color='red', alpha=0.7)\n",
        "    #     plt.legend() # Update legend if smoothed plot is added\n",
        "\n",
        "    plt.show()\n",
        "    print(f\"Plotted {len(standard_model_losses)} batch loss values for the Standard Model.\")\n",
        "else:\n",
        "    print(\"Could not plot: 'standard_model_losses' data not found or is empty. Please ensure the standard model training cell has run successfully.\")\n",
        "\n"
      ]
    },
    {
      "cell_type": "code",
      "execution_count": 12,
      "metadata": {
        "colab": {
          "base_uri": "https://localhost:8080/",
          "height": 1000
        },
        "id": "ZsWpWcmIkgQl",
        "outputId": "f4f6a2b6-6dc6-4b3a-d9bc-2ae867ac9a2a"
      },
      "outputs": [
        {
          "output_type": "stream",
          "name": "stdout",
          "text": [
            "📊📈 Plotting Consolidated Training Losses...\n",
            "========================================\n",
            "Using smoothing window size: 100 for comparative plot.\n"
          ]
        },
        {
          "output_type": "display_data",
          "data": {
            "text/plain": [
              "<Figure size 1400x2100 with 3 Axes>"
            ],
            "image/png": "[encoded data removed]"
          },
          "metadata": {}
        },
        {
          "output_type": "stream",
          "name": "stdout",
          "text": [
            "\n",
            "========================================\n"
          ]
        }
      ],
      "source": [
        "# 📊📈 CONSOLIDATED TRAINING LOSS PLOTS\n",
        "\n",
        "import matplotlib.pyplot as plt\n",
        "import numpy as np\n",
        "\n",
        "# Ensure the following variables are accessible from previous cells:\n",
        "# losses (list of batch losses from bijective model training)\n",
        "# standard_model_losses (list of batch losses from standard model training)\n",
        "# train_loader (the DataLoader instance, used to help determine smoothing window)\n",
        "\n",
        "print(\"📊📈 Plotting Consolidated Training Losses...\\n\" + \"=\"*40)\n",
        "\n",
        "# Check if all required data is available\n",
        "data_available = True\n",
        "if 'losses' not in globals() or not losses:\n",
        "    print(\"Warning: 'losses' data for Bijective Model not found or empty.\")\n",
        "    data_available = False\n",
        "if 'standard_model_losses' not in globals() or not standard_model_losses:\n",
        "    print(\"Warning: 'standard_model_losses' data for Standard Model not found or empty.\")\n",
        "    data_available = False\n",
        "if 'train_loader' not in globals() or train_loader is None:\n",
        "    print(\"Warning: 'train_loader' not found. Using a default smoothing window.\")\n",
        "    # data_available = False # Can still plot raw, but smoothing window needs a default\n",
        "\n",
        "if not data_available and not ('losses' in globals() and standard_model_losses in globals()): # if neither is available\n",
        "    print(\"Cannot generate plots: No loss data available.\")\n",
        "else:\n",
        "    fig, axs = plt.subplots(3, 1, figsize=(14, 21)) # 3 rows, 1 column\n",
        "\n",
        "    # --- Plot 1: Bijective Model - Batch Losses ---\n",
        "    if 'losses' in globals() and losses:\n",
        "        axs[0].plot(losses, label='Bijective Model Batch Loss', color='deepskyblue', alpha=0.8)\n",
        "        axs[0].set_title('Bijective Model - Training Loss (Per Batch)')\n",
        "        axs[0].set_xlabel('Training Step (Batch #)')\n",
        "        axs[0].set_ylabel('Loss')\n",
        "        axs[0].legend()\n",
        "        axs[0].grid(True)\n",
        "    else:\n",
        "        axs[0].text(0.5, 0.5, 'Bijective Model loss data not available.', ha='center', va='center')\n",
        "        axs[0].set_title('Bijective Model - Training Loss (Per Batch)')\n",
        "\n",
        "\n",
        "    # --- Plot 2: Standard Model - Batch Losses ---\n",
        "    if 'standard_model_losses' in globals() and standard_model_losses:\n",
        "        axs[1].plot(standard_model_losses, label='Standard Model Batch Loss', color='salmon', alpha=0.8)\n",
        "        axs[1].set_title('Standard Model - Training Loss (Per Batch)')\n",
        "        axs[1].set_xlabel('Training Step (Batch #)')\n",
        "        axs[1].set_ylabel('Loss')\n",
        "        axs[1].legend()\n",
        "        axs[1].grid(True)\n",
        "    else:\n",
        "        axs[1].text(0.5, 0.5, 'Standard Model loss data not available.', ha='center', va='center')\n",
        "        axs[1].set_title('Standard Model - Training Loss (Per Batch)')\n",
        "\n",
        "    # --- Plot 3: Comparative Plot - Smoothed Batch Losses ---\n",
        "    axs[2].set_title('Comparative Training Loss (Smoothed Batch Losses)')\n",
        "    axs[2].set_xlabel('Training Step (Batch #)')\n",
        "    axs[2].set_ylabel('Smoothed Loss')\n",
        "    plot_comparative_success = False\n",
        "\n",
        "    if 'train_loader' in globals() and train_loader is not None:\n",
        "        # Adaptive window size, e.g., 5% of an epoch's batches, min 10, max 100\n",
        "        window_size = max(10, min(100, int(len(train_loader) * 0.05)))\n",
        "    else:\n",
        "        window_size = 50 # Default window if train_loader not found\n",
        "\n",
        "    print(f\"Using smoothing window size: {window_size} for comparative plot.\")\n",
        "\n",
        "    if 'losses' in globals() and losses and len(losses) > window_size:\n",
        "        bijective_smoothed = np.convolve(losses, np.ones(window_size)/window_size, mode='valid')\n",
        "        # Adjust x-axis for 'valid' mode convolution: starts after window_size/2 batches effectively\n",
        "        x_bijective = np.arange(window_size - 1, len(losses))\n",
        "        axs[2].plot(x_bijective, bijective_smoothed, label=f'Bijective (Smoothed, w={window_size})', color='blue')\n",
        "        plot_comparative_success = True\n",
        "    elif 'losses' in globals() and losses: # Plot raw if not enough data to smooth\n",
        "        axs[2].plot(losses, label='Bijective (Raw Batch Loss)', color='blue', alpha=0.5)\n",
        "        print(\"Note: Plotting raw batch loss for Bijective Model as data is too short for smoothing.\")\n",
        "        plot_comparative_success = True\n",
        "\n",
        "\n",
        "    if 'standard_model_losses' in globals() and standard_model_losses and len(standard_model_losses) > window_size:\n",
        "        standard_smoothed = np.convolve(standard_model_losses, np.ones(window_size)/window_size, mode='valid')\n",
        "        x_standard = np.arange(window_size - 1, len(standard_model_losses))\n",
        "        axs[2].plot(x_standard, standard_smoothed, label=f'Standard (Smoothed, w={window_size})', color='red')\n",
        "        plot_comparative_success = True\n",
        "    elif 'standard_model_losses' in globals() and standard_model_losses: # Plot raw if not enough data to smooth\n",
        "        axs[2].plot(standard_model_losses, label='Standard (Raw Batch Loss)', color='red', alpha=0.5)\n",
        "        print(\"Note: Plotting raw batch loss for Standard Model as data is too short for smoothing.\")\n",
        "        plot_comparative_success = True\n",
        "\n",
        "    if plot_comparative_success:\n",
        "        axs[2].legend()\n",
        "        axs[2].grid(True)\n",
        "    else:\n",
        "        axs[2].text(0.5, 0.5, 'Loss data for comparative plot not sufficient.', ha='center', va='center')\n",
        "\n",
        "    plt.tight_layout(pad=3.0) # Add padding between subplots\n",
        "    plt.show()\n",
        "\n",
        "print(\"\\n\" + \"=\"*40)\n"
      ]
    },
    {
      "cell_type": "code",
      "execution_count": 12,
      "metadata": {
        "id": "4K2UidvqlJou"
      },
      "outputs": [],
      "source": []
    }
  ],
  "metadata": {
    "accelerator": "GPU",
    "colab": {
      "gpuType": "A100",
      "machine_shape": "hm",
      "provenance": []
    },
    "kernelspec": {
      "display_name": "Python 3",
      "name": "python3"
    },
    "language_info": {
      "name": "python"
    }
  },
  "nbformat": 4,
  "nbformat_minor": 0
}